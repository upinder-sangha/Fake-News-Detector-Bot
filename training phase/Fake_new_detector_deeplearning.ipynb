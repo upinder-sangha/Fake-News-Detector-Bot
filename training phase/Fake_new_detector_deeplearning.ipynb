{
  "nbformat": 4,
  "nbformat_minor": 0,
  "metadata": {
    "colab": {
      "name": "Fake_new_detector_deeplearning.ipynb",
      "provenance": [],
      "collapsed_sections": []
    },
    "kernelspec": {
      "name": "python3",
      "display_name": "Python 3"
    },
    "language_info": {
      "name": "python"
    },
    "accelerator": "GPU"
  },
  "cells": [
    {
      "cell_type": "markdown",
      "metadata": {
        "id": "zJ-upChCb91x"
      },
      "source": [
        "###Importing necessary libraries"
      ]
    },
    {
      "cell_type": "code",
      "metadata": {
        "colab": {
          "base_uri": "https://localhost:8080/"
        },
        "id": "BoSe4LZZxRHV",
        "outputId": "6240126c-0be6-4759-a4c6-01b0f571a930"
      },
      "source": [
        "import numpy as np\n",
        "import pandas as pd\n",
        "import nltk\n",
        "nltk.download('stopwords')\n",
        "from nltk.corpus import stopwords"
      ],
      "execution_count": null,
      "outputs": [
        {
          "output_type": "stream",
          "name": "stdout",
          "text": [
            "[nltk_data] Downloading package stopwords to /root/nltk_data...\n",
            "[nltk_data]   Unzipping corpora/stopwords.zip.\n"
          ]
        }
      ]
    },
    {
      "cell_type": "code",
      "metadata": {
        "id": "CvGIXZd5cU6p"
      },
      "source": [
        "from sklearn.preprocessing import LabelEncoder\n",
        "from sklearn.preprocessing import OneHotEncoder"
      ],
      "execution_count": null,
      "outputs": []
    },
    {
      "cell_type": "code",
      "metadata": {
        "id": "YGOPqT-BXyYk"
      },
      "source": [
        "from keras.preprocessing.text import Tokenizer\n",
        "from keras.preprocessing.sequence import pad_sequences\n"
      ],
      "execution_count": null,
      "outputs": []
    },
    {
      "cell_type": "markdown",
      "metadata": {
        "id": "aIwqw6yrcKzI"
      },
      "source": [
        "###Importing Dataset"
      ]
    },
    {
      "cell_type": "code",
      "metadata": {
        "colab": {
          "base_uri": "https://localhost:8080/",
          "height": 423
        },
        "id": "vE62ohFJ2ek7",
        "outputId": "22139757-807f-4472-c1b2-8b05380cee40"
      },
      "source": [
        "dataset = pd.read_csv('Train.csv')\n",
        "dataset"
      ],
      "execution_count": null,
      "outputs": [
        {
          "output_type": "execute_result",
          "data": {
            "text/html": [
              "\n",
              "  <div id=\"df-82cacda6-9b10-4190-addf-7ddf42e0ad21\">\n",
              "    <div class=\"colab-df-container\">\n",
              "      <div>\n",
              "<style scoped>\n",
              "    .dataframe tbody tr th:only-of-type {\n",
              "        vertical-align: middle;\n",
              "    }\n",
              "\n",
              "    .dataframe tbody tr th {\n",
              "        vertical-align: top;\n",
              "    }\n",
              "\n",
              "    .dataframe thead th {\n",
              "        text-align: right;\n",
              "    }\n",
              "</style>\n",
              "<table border=\"1\" class=\"dataframe\">\n",
              "  <thead>\n",
              "    <tr style=\"text-align: right;\">\n",
              "      <th></th>\n",
              "      <th>id</th>\n",
              "      <th>tweet</th>\n",
              "      <th>label</th>\n",
              "    </tr>\n",
              "  </thead>\n",
              "  <tbody>\n",
              "    <tr>\n",
              "      <th>0</th>\n",
              "      <td>1</td>\n",
              "      <td>The CDC currently reports 99031 deaths. In gen...</td>\n",
              "      <td>real</td>\n",
              "    </tr>\n",
              "    <tr>\n",
              "      <th>1</th>\n",
              "      <td>2</td>\n",
              "      <td>States reported 1121 deaths a small rise from ...</td>\n",
              "      <td>real</td>\n",
              "    </tr>\n",
              "    <tr>\n",
              "      <th>2</th>\n",
              "      <td>3</td>\n",
              "      <td>Politically Correct Woman (Almost) Uses Pandem...</td>\n",
              "      <td>fake</td>\n",
              "    </tr>\n",
              "    <tr>\n",
              "      <th>3</th>\n",
              "      <td>4</td>\n",
              "      <td>#IndiaFightsCorona: We have 1524 #COVID testin...</td>\n",
              "      <td>real</td>\n",
              "    </tr>\n",
              "    <tr>\n",
              "      <th>4</th>\n",
              "      <td>5</td>\n",
              "      <td>Populous states can generate large case counts...</td>\n",
              "      <td>real</td>\n",
              "    </tr>\n",
              "    <tr>\n",
              "      <th>...</th>\n",
              "      <td>...</td>\n",
              "      <td>...</td>\n",
              "      <td>...</td>\n",
              "    </tr>\n",
              "    <tr>\n",
              "      <th>8555</th>\n",
              "      <td>8556</td>\n",
              "      <td>Donald Trump wrongly claimed that New Zealand ...</td>\n",
              "      <td>fake</td>\n",
              "    </tr>\n",
              "    <tr>\n",
              "      <th>8556</th>\n",
              "      <td>8557</td>\n",
              "      <td>Current understanding is #COVID19 spreads most...</td>\n",
              "      <td>real</td>\n",
              "    </tr>\n",
              "    <tr>\n",
              "      <th>8557</th>\n",
              "      <td>8558</td>\n",
              "      <td>Nothing screams “I am sat around doing fuck al...</td>\n",
              "      <td>fake</td>\n",
              "    </tr>\n",
              "    <tr>\n",
              "      <th>8558</th>\n",
              "      <td>8559</td>\n",
              "      <td>Birx says COVID-19 outbreak not under control ...</td>\n",
              "      <td>fake</td>\n",
              "    </tr>\n",
              "    <tr>\n",
              "      <th>8559</th>\n",
              "      <td>8560</td>\n",
              "      <td>Another 4422 new coronavirus cases have been c...</td>\n",
              "      <td>real</td>\n",
              "    </tr>\n",
              "  </tbody>\n",
              "</table>\n",
              "<p>8560 rows × 3 columns</p>\n",
              "</div>\n",
              "      <button class=\"colab-df-convert\" onclick=\"convertToInteractive('df-82cacda6-9b10-4190-addf-7ddf42e0ad21')\"\n",
              "              title=\"Convert this dataframe to an interactive table.\"\n",
              "              style=\"display:none;\">\n",
              "        \n",
              "  <svg xmlns=\"http://www.w3.org/2000/svg\" height=\"24px\"viewBox=\"0 0 24 24\"\n",
              "       width=\"24px\">\n",
              "    <path d=\"M0 0h24v24H0V0z\" fill=\"none\"/>\n",
              "    <path d=\"M18.56 5.44l.94 2.06.94-2.06 2.06-.94-2.06-.94-.94-2.06-.94 2.06-2.06.94zm-11 1L8.5 8.5l.94-2.06 2.06-.94-2.06-.94L8.5 2.5l-.94 2.06-2.06.94zm10 10l.94 2.06.94-2.06 2.06-.94-2.06-.94-.94-2.06-.94 2.06-2.06.94z\"/><path d=\"M17.41 7.96l-1.37-1.37c-.4-.4-.92-.59-1.43-.59-.52 0-1.04.2-1.43.59L10.3 9.45l-7.72 7.72c-.78.78-.78 2.05 0 2.83L4 21.41c.39.39.9.59 1.41.59.51 0 1.02-.2 1.41-.59l7.78-7.78 2.81-2.81c.8-.78.8-2.07 0-2.86zM5.41 20L4 18.59l7.72-7.72 1.47 1.35L5.41 20z\"/>\n",
              "  </svg>\n",
              "      </button>\n",
              "      \n",
              "  <style>\n",
              "    .colab-df-container {\n",
              "      display:flex;\n",
              "      flex-wrap:wrap;\n",
              "      gap: 12px;\n",
              "    }\n",
              "\n",
              "    .colab-df-convert {\n",
              "      background-color: #E8F0FE;\n",
              "      border: none;\n",
              "      border-radius: 50%;\n",
              "      cursor: pointer;\n",
              "      display: none;\n",
              "      fill: #1967D2;\n",
              "      height: 32px;\n",
              "      padding: 0 0 0 0;\n",
              "      width: 32px;\n",
              "    }\n",
              "\n",
              "    .colab-df-convert:hover {\n",
              "      background-color: #E2EBFA;\n",
              "      box-shadow: 0px 1px 2px rgba(60, 64, 67, 0.3), 0px 1px 3px 1px rgba(60, 64, 67, 0.15);\n",
              "      fill: #174EA6;\n",
              "    }\n",
              "\n",
              "    [theme=dark] .colab-df-convert {\n",
              "      background-color: #3B4455;\n",
              "      fill: #D2E3FC;\n",
              "    }\n",
              "\n",
              "    [theme=dark] .colab-df-convert:hover {\n",
              "      background-color: #434B5C;\n",
              "      box-shadow: 0px 1px 3px 1px rgba(0, 0, 0, 0.15);\n",
              "      filter: drop-shadow(0px 1px 2px rgba(0, 0, 0, 0.3));\n",
              "      fill: #FFFFFF;\n",
              "    }\n",
              "  </style>\n",
              "\n",
              "      <script>\n",
              "        const buttonEl =\n",
              "          document.querySelector('#df-82cacda6-9b10-4190-addf-7ddf42e0ad21 button.colab-df-convert');\n",
              "        buttonEl.style.display =\n",
              "          google.colab.kernel.accessAllowed ? 'block' : 'none';\n",
              "\n",
              "        async function convertToInteractive(key) {\n",
              "          const element = document.querySelector('#df-82cacda6-9b10-4190-addf-7ddf42e0ad21');\n",
              "          const dataTable =\n",
              "            await google.colab.kernel.invokeFunction('convertToInteractive',\n",
              "                                                     [key], {});\n",
              "          if (!dataTable) return;\n",
              "\n",
              "          const docLinkHtml = 'Like what you see? Visit the ' +\n",
              "            '<a target=\"_blank\" href=https://colab.research.google.com/notebooks/data_table.ipynb>data table notebook</a>'\n",
              "            + ' to learn more about interactive tables.';\n",
              "          element.innerHTML = '';\n",
              "          dataTable['output_type'] = 'display_data';\n",
              "          await google.colab.output.renderOutput(dataTable, element);\n",
              "          const docLink = document.createElement('div');\n",
              "          docLink.innerHTML = docLinkHtml;\n",
              "          element.appendChild(docLink);\n",
              "        }\n",
              "      </script>\n",
              "    </div>\n",
              "  </div>\n",
              "  "
            ],
            "text/plain": [
              "        id                                              tweet label\n",
              "0        1  The CDC currently reports 99031 deaths. In gen...  real\n",
              "1        2  States reported 1121 deaths a small rise from ...  real\n",
              "2        3  Politically Correct Woman (Almost) Uses Pandem...  fake\n",
              "3        4  #IndiaFightsCorona: We have 1524 #COVID testin...  real\n",
              "4        5  Populous states can generate large case counts...  real\n",
              "...    ...                                                ...   ...\n",
              "8555  8556  Donald Trump wrongly claimed that New Zealand ...  fake\n",
              "8556  8557  Current understanding is #COVID19 spreads most...  real\n",
              "8557  8558  Nothing screams “I am sat around doing fuck al...  fake\n",
              "8558  8559  Birx says COVID-19 outbreak not under control ...  fake\n",
              "8559  8560  Another 4422 new coronavirus cases have been c...  real\n",
              "\n",
              "[8560 rows x 3 columns]"
            ]
          },
          "metadata": {},
          "execution_count": 28
        }
      ]
    },
    {
      "cell_type": "markdown",
      "metadata": {
        "id": "NwyrLgC6gBRJ"
      },
      "source": [
        "##Preprocessing\n"
      ]
    },
    {
      "cell_type": "markdown",
      "metadata": {
        "id": "gQBu8v3MhB-l"
      },
      "source": [
        "###Function to remove noise"
      ]
    },
    {
      "cell_type": "code",
      "metadata": {
        "id": "BOhoULlj4nOQ"
      },
      "source": [
        "import re\n",
        "def remove_noise(input):\n",
        "    input = str(input).lower()\n",
        "    new_text = re.sub('[^a-z+]', ' ',input)\n",
        "    return new_text "
      ],
      "execution_count": null,
      "outputs": []
    },
    {
      "cell_type": "markdown",
      "metadata": {
        "id": "yk21gXxjhFWL"
      },
      "source": [
        "###Function to remove stopwords"
      ]
    },
    {
      "cell_type": "code",
      "metadata": {
        "id": "O64AvAUg3eCT"
      },
      "source": [
        "stopwords_list = stopwords.words('english')\n",
        "stopwords_list.append(['the','a','an'])\n",
        "def remove_stopwords(input_text):\n",
        "    # input_text = str(input_text).lower()\n",
        "    words = str(input_text).split() \n",
        "    clean_words = [word for word in words if (word not in stopwords_list) and len(word) > 1] \n",
        "    return \" \".join(clean_words)"
      ],
      "execution_count": null,
      "outputs": []
    },
    {
      "cell_type": "markdown",
      "metadata": {
        "id": "tE4ADJ_jhY6M"
      },
      "source": [
        "###Applying these functions to column containing tweets"
      ]
    },
    {
      "cell_type": "code",
      "metadata": {
        "colab": {
          "base_uri": "https://localhost:8080/",
          "height": 423
        },
        "id": "nIcqWuCJ4pWX",
        "outputId": "a7579606-6b9b-424f-eed6-87db7ed268c2"
      },
      "source": [
        "dataset.tweet = dataset.tweet.apply(remove_noise)\n",
        "dataset.tweet = dataset.tweet.apply(remove_stopwords)\n",
        "dataset"
      ],
      "execution_count": null,
      "outputs": [
        {
          "output_type": "execute_result",
          "data": {
            "text/html": [
              "\n",
              "  <div id=\"df-9540fbd3-4777-42b1-afcd-2c1873bca906\">\n",
              "    <div class=\"colab-df-container\">\n",
              "      <div>\n",
              "<style scoped>\n",
              "    .dataframe tbody tr th:only-of-type {\n",
              "        vertical-align: middle;\n",
              "    }\n",
              "\n",
              "    .dataframe tbody tr th {\n",
              "        vertical-align: top;\n",
              "    }\n",
              "\n",
              "    .dataframe thead th {\n",
              "        text-align: right;\n",
              "    }\n",
              "</style>\n",
              "<table border=\"1\" class=\"dataframe\">\n",
              "  <thead>\n",
              "    <tr style=\"text-align: right;\">\n",
              "      <th></th>\n",
              "      <th>id</th>\n",
              "      <th>tweet</th>\n",
              "      <th>label</th>\n",
              "    </tr>\n",
              "  </thead>\n",
              "  <tbody>\n",
              "    <tr>\n",
              "      <th>0</th>\n",
              "      <td>1</td>\n",
              "      <td>cdc currently reports deaths general discrepan...</td>\n",
              "      <td>real</td>\n",
              "    </tr>\n",
              "    <tr>\n",
              "      <th>1</th>\n",
              "      <td>2</td>\n",
              "      <td>states reported deaths small rise last tuesday...</td>\n",
              "      <td>real</td>\n",
              "    </tr>\n",
              "    <tr>\n",
              "      <th>2</th>\n",
              "      <td>3</td>\n",
              "      <td>politically correct woman almost uses pandemic...</td>\n",
              "      <td>fake</td>\n",
              "    </tr>\n",
              "    <tr>\n",
              "      <th>3</th>\n",
              "      <td>4</td>\n",
              "      <td>indiafightscorona covid testing laboratories i...</td>\n",
              "      <td>real</td>\n",
              "    </tr>\n",
              "    <tr>\n",
              "      <th>4</th>\n",
              "      <td>5</td>\n",
              "      <td>populous states generate large case counts loo...</td>\n",
              "      <td>real</td>\n",
              "    </tr>\n",
              "    <tr>\n",
              "      <th>...</th>\n",
              "      <td>...</td>\n",
              "      <td>...</td>\n",
              "      <td>...</td>\n",
              "    </tr>\n",
              "    <tr>\n",
              "      <th>8555</th>\n",
              "      <td>8556</td>\n",
              "      <td>donald trump wrongly claimed new zealand big s...</td>\n",
              "      <td>fake</td>\n",
              "    </tr>\n",
              "    <tr>\n",
              "      <th>8556</th>\n",
              "      <td>8557</td>\n",
              "      <td>current understanding covid spreads mostly per...</td>\n",
              "      <td>real</td>\n",
              "    </tr>\n",
              "    <tr>\n",
              "      <th>8557</th>\n",
              "      <td>8558</td>\n",
              "      <td>nothing screams sat around fuck lockdown quite...</td>\n",
              "      <td>fake</td>\n",
              "    </tr>\n",
              "    <tr>\n",
              "      <th>8558</th>\n",
              "      <td>8559</td>\n",
              "      <td>birx says covid outbreak control people move h...</td>\n",
              "      <td>fake</td>\n",
              "    </tr>\n",
              "    <tr>\n",
              "      <th>8559</th>\n",
              "      <td>8560</td>\n",
              "      <td>another new coronavirus cases confirmed uk hig...</td>\n",
              "      <td>real</td>\n",
              "    </tr>\n",
              "  </tbody>\n",
              "</table>\n",
              "<p>8560 rows × 3 columns</p>\n",
              "</div>\n",
              "      <button class=\"colab-df-convert\" onclick=\"convertToInteractive('df-9540fbd3-4777-42b1-afcd-2c1873bca906')\"\n",
              "              title=\"Convert this dataframe to an interactive table.\"\n",
              "              style=\"display:none;\">\n",
              "        \n",
              "  <svg xmlns=\"http://www.w3.org/2000/svg\" height=\"24px\"viewBox=\"0 0 24 24\"\n",
              "       width=\"24px\">\n",
              "    <path d=\"M0 0h24v24H0V0z\" fill=\"none\"/>\n",
              "    <path d=\"M18.56 5.44l.94 2.06.94-2.06 2.06-.94-2.06-.94-.94-2.06-.94 2.06-2.06.94zm-11 1L8.5 8.5l.94-2.06 2.06-.94-2.06-.94L8.5 2.5l-.94 2.06-2.06.94zm10 10l.94 2.06.94-2.06 2.06-.94-2.06-.94-.94-2.06-.94 2.06-2.06.94z\"/><path d=\"M17.41 7.96l-1.37-1.37c-.4-.4-.92-.59-1.43-.59-.52 0-1.04.2-1.43.59L10.3 9.45l-7.72 7.72c-.78.78-.78 2.05 0 2.83L4 21.41c.39.39.9.59 1.41.59.51 0 1.02-.2 1.41-.59l7.78-7.78 2.81-2.81c.8-.78.8-2.07 0-2.86zM5.41 20L4 18.59l7.72-7.72 1.47 1.35L5.41 20z\"/>\n",
              "  </svg>\n",
              "      </button>\n",
              "      \n",
              "  <style>\n",
              "    .colab-df-container {\n",
              "      display:flex;\n",
              "      flex-wrap:wrap;\n",
              "      gap: 12px;\n",
              "    }\n",
              "\n",
              "    .colab-df-convert {\n",
              "      background-color: #E8F0FE;\n",
              "      border: none;\n",
              "      border-radius: 50%;\n",
              "      cursor: pointer;\n",
              "      display: none;\n",
              "      fill: #1967D2;\n",
              "      height: 32px;\n",
              "      padding: 0 0 0 0;\n",
              "      width: 32px;\n",
              "    }\n",
              "\n",
              "    .colab-df-convert:hover {\n",
              "      background-color: #E2EBFA;\n",
              "      box-shadow: 0px 1px 2px rgba(60, 64, 67, 0.3), 0px 1px 3px 1px rgba(60, 64, 67, 0.15);\n",
              "      fill: #174EA6;\n",
              "    }\n",
              "\n",
              "    [theme=dark] .colab-df-convert {\n",
              "      background-color: #3B4455;\n",
              "      fill: #D2E3FC;\n",
              "    }\n",
              "\n",
              "    [theme=dark] .colab-df-convert:hover {\n",
              "      background-color: #434B5C;\n",
              "      box-shadow: 0px 1px 3px 1px rgba(0, 0, 0, 0.15);\n",
              "      filter: drop-shadow(0px 1px 2px rgba(0, 0, 0, 0.3));\n",
              "      fill: #FFFFFF;\n",
              "    }\n",
              "  </style>\n",
              "\n",
              "      <script>\n",
              "        const buttonEl =\n",
              "          document.querySelector('#df-9540fbd3-4777-42b1-afcd-2c1873bca906 button.colab-df-convert');\n",
              "        buttonEl.style.display =\n",
              "          google.colab.kernel.accessAllowed ? 'block' : 'none';\n",
              "\n",
              "        async function convertToInteractive(key) {\n",
              "          const element = document.querySelector('#df-9540fbd3-4777-42b1-afcd-2c1873bca906');\n",
              "          const dataTable =\n",
              "            await google.colab.kernel.invokeFunction('convertToInteractive',\n",
              "                                                     [key], {});\n",
              "          if (!dataTable) return;\n",
              "\n",
              "          const docLinkHtml = 'Like what you see? Visit the ' +\n",
              "            '<a target=\"_blank\" href=https://colab.research.google.com/notebooks/data_table.ipynb>data table notebook</a>'\n",
              "            + ' to learn more about interactive tables.';\n",
              "          element.innerHTML = '';\n",
              "          dataTable['output_type'] = 'display_data';\n",
              "          await google.colab.output.renderOutput(dataTable, element);\n",
              "          const docLink = document.createElement('div');\n",
              "          docLink.innerHTML = docLinkHtml;\n",
              "          element.appendChild(docLink);\n",
              "        }\n",
              "      </script>\n",
              "    </div>\n",
              "  </div>\n",
              "  "
            ],
            "text/plain": [
              "        id                                              tweet label\n",
              "0        1  cdc currently reports deaths general discrepan...  real\n",
              "1        2  states reported deaths small rise last tuesday...  real\n",
              "2        3  politically correct woman almost uses pandemic...  fake\n",
              "3        4  indiafightscorona covid testing laboratories i...  real\n",
              "4        5  populous states generate large case counts loo...  real\n",
              "...    ...                                                ...   ...\n",
              "8555  8556  donald trump wrongly claimed new zealand big s...  fake\n",
              "8556  8557  current understanding covid spreads mostly per...  real\n",
              "8557  8558  nothing screams sat around fuck lockdown quite...  fake\n",
              "8558  8559  birx says covid outbreak control people move h...  fake\n",
              "8559  8560  another new coronavirus cases confirmed uk hig...  real\n",
              "\n",
              "[8560 rows x 3 columns]"
            ]
          },
          "metadata": {},
          "execution_count": 31
        }
      ]
    },
    {
      "cell_type": "markdown",
      "metadata": {
        "id": "rZkvkDLYhn2v"
      },
      "source": [
        "###Calculating the number of average words in a news"
      ]
    },
    {
      "cell_type": "code",
      "metadata": {
        "colab": {
          "base_uri": "https://localhost:8080/"
        },
        "id": "9qjyNVmrHBuv",
        "outputId": "a3b42ef2-b738-4e58-c005-7c999a7abde6"
      },
      "source": [
        "total = 0\n",
        "for tweet in dataset.tweet:\n",
        "    words = str(tweet).split()\n",
        "    total = total + len(words)\n",
        "print(total/8560)"
      ],
      "execution_count": null,
      "outputs": [
        {
          "output_type": "stream",
          "name": "stdout",
          "text": [
            "18.1821261682243\n"
          ]
        }
      ]
    },
    {
      "cell_type": "markdown",
      "metadata": {
        "id": "ndHdBG6Ch_KL"
      },
      "source": [
        "###Limiting the number of words in a news so that all the news contains same number of words "
      ]
    },
    {
      "cell_type": "code",
      "metadata": {
        "id": "88fFALLrA59l"
      },
      "source": [
        "max_length = 20\n",
        "\n",
        "def truncate(input_text):\n",
        "    words = str(input_text).split() \n",
        "    if len(words)>max_length:\n",
        "        del words[max_length:]\n",
        "    elif len(words)<max_length:\n",
        "        words = words + ['nan'] * (max_length-len(words)) \n",
        "    return \" \".join(words)"
      ],
      "execution_count": null,
      "outputs": []
    },
    {
      "cell_type": "code",
      "metadata": {
        "id": "OSBJH85lGfW6",
        "colab": {
          "base_uri": "https://localhost:8080/",
          "height": 423
        },
        "outputId": "b8e3269c-f9bd-4e6d-ff06-6eaab7600b5d"
      },
      "source": [
        "dataset.tweet = dataset.tweet.apply(truncate)\n",
        "dataset"
      ],
      "execution_count": null,
      "outputs": [
        {
          "output_type": "execute_result",
          "data": {
            "text/html": [
              "\n",
              "  <div id=\"df-1760c554-7ae3-4cf4-b19e-60b27f5906a9\">\n",
              "    <div class=\"colab-df-container\">\n",
              "      <div>\n",
              "<style scoped>\n",
              "    .dataframe tbody tr th:only-of-type {\n",
              "        vertical-align: middle;\n",
              "    }\n",
              "\n",
              "    .dataframe tbody tr th {\n",
              "        vertical-align: top;\n",
              "    }\n",
              "\n",
              "    .dataframe thead th {\n",
              "        text-align: right;\n",
              "    }\n",
              "</style>\n",
              "<table border=\"1\" class=\"dataframe\">\n",
              "  <thead>\n",
              "    <tr style=\"text-align: right;\">\n",
              "      <th></th>\n",
              "      <th>id</th>\n",
              "      <th>tweet</th>\n",
              "      <th>label</th>\n",
              "    </tr>\n",
              "  </thead>\n",
              "  <tbody>\n",
              "    <tr>\n",
              "      <th>0</th>\n",
              "      <td>1</td>\n",
              "      <td>cdc currently reports deaths general discrepan...</td>\n",
              "      <td>real</td>\n",
              "    </tr>\n",
              "    <tr>\n",
              "      <th>1</th>\n",
              "      <td>2</td>\n",
              "      <td>states reported deaths small rise last tuesday...</td>\n",
              "      <td>real</td>\n",
              "    </tr>\n",
              "    <tr>\n",
              "      <th>2</th>\n",
              "      <td>3</td>\n",
              "      <td>politically correct woman almost uses pandemic...</td>\n",
              "      <td>fake</td>\n",
              "    </tr>\n",
              "    <tr>\n",
              "      <th>3</th>\n",
              "      <td>4</td>\n",
              "      <td>indiafightscorona covid testing laboratories i...</td>\n",
              "      <td>real</td>\n",
              "    </tr>\n",
              "    <tr>\n",
              "      <th>4</th>\n",
              "      <td>5</td>\n",
              "      <td>populous states generate large case counts loo...</td>\n",
              "      <td>real</td>\n",
              "    </tr>\n",
              "    <tr>\n",
              "      <th>...</th>\n",
              "      <td>...</td>\n",
              "      <td>...</td>\n",
              "      <td>...</td>\n",
              "    </tr>\n",
              "    <tr>\n",
              "      <th>8555</th>\n",
              "      <td>8556</td>\n",
              "      <td>donald trump wrongly claimed new zealand big s...</td>\n",
              "      <td>fake</td>\n",
              "    </tr>\n",
              "    <tr>\n",
              "      <th>8556</th>\n",
              "      <td>8557</td>\n",
              "      <td>current understanding covid spreads mostly per...</td>\n",
              "      <td>real</td>\n",
              "    </tr>\n",
              "    <tr>\n",
              "      <th>8557</th>\n",
              "      <td>8558</td>\n",
              "      <td>nothing screams sat around fuck lockdown quite...</td>\n",
              "      <td>fake</td>\n",
              "    </tr>\n",
              "    <tr>\n",
              "      <th>8558</th>\n",
              "      <td>8559</td>\n",
              "      <td>birx says covid outbreak control people move h...</td>\n",
              "      <td>fake</td>\n",
              "    </tr>\n",
              "    <tr>\n",
              "      <th>8559</th>\n",
              "      <td>8560</td>\n",
              "      <td>another new coronavirus cases confirmed uk hig...</td>\n",
              "      <td>real</td>\n",
              "    </tr>\n",
              "  </tbody>\n",
              "</table>\n",
              "<p>8560 rows × 3 columns</p>\n",
              "</div>\n",
              "      <button class=\"colab-df-convert\" onclick=\"convertToInteractive('df-1760c554-7ae3-4cf4-b19e-60b27f5906a9')\"\n",
              "              title=\"Convert this dataframe to an interactive table.\"\n",
              "              style=\"display:none;\">\n",
              "        \n",
              "  <svg xmlns=\"http://www.w3.org/2000/svg\" height=\"24px\"viewBox=\"0 0 24 24\"\n",
              "       width=\"24px\">\n",
              "    <path d=\"M0 0h24v24H0V0z\" fill=\"none\"/>\n",
              "    <path d=\"M18.56 5.44l.94 2.06.94-2.06 2.06-.94-2.06-.94-.94-2.06-.94 2.06-2.06.94zm-11 1L8.5 8.5l.94-2.06 2.06-.94-2.06-.94L8.5 2.5l-.94 2.06-2.06.94zm10 10l.94 2.06.94-2.06 2.06-.94-2.06-.94-.94-2.06-.94 2.06-2.06.94z\"/><path d=\"M17.41 7.96l-1.37-1.37c-.4-.4-.92-.59-1.43-.59-.52 0-1.04.2-1.43.59L10.3 9.45l-7.72 7.72c-.78.78-.78 2.05 0 2.83L4 21.41c.39.39.9.59 1.41.59.51 0 1.02-.2 1.41-.59l7.78-7.78 2.81-2.81c.8-.78.8-2.07 0-2.86zM5.41 20L4 18.59l7.72-7.72 1.47 1.35L5.41 20z\"/>\n",
              "  </svg>\n",
              "      </button>\n",
              "      \n",
              "  <style>\n",
              "    .colab-df-container {\n",
              "      display:flex;\n",
              "      flex-wrap:wrap;\n",
              "      gap: 12px;\n",
              "    }\n",
              "\n",
              "    .colab-df-convert {\n",
              "      background-color: #E8F0FE;\n",
              "      border: none;\n",
              "      border-radius: 50%;\n",
              "      cursor: pointer;\n",
              "      display: none;\n",
              "      fill: #1967D2;\n",
              "      height: 32px;\n",
              "      padding: 0 0 0 0;\n",
              "      width: 32px;\n",
              "    }\n",
              "\n",
              "    .colab-df-convert:hover {\n",
              "      background-color: #E2EBFA;\n",
              "      box-shadow: 0px 1px 2px rgba(60, 64, 67, 0.3), 0px 1px 3px 1px rgba(60, 64, 67, 0.15);\n",
              "      fill: #174EA6;\n",
              "    }\n",
              "\n",
              "    [theme=dark] .colab-df-convert {\n",
              "      background-color: #3B4455;\n",
              "      fill: #D2E3FC;\n",
              "    }\n",
              "\n",
              "    [theme=dark] .colab-df-convert:hover {\n",
              "      background-color: #434B5C;\n",
              "      box-shadow: 0px 1px 3px 1px rgba(0, 0, 0, 0.15);\n",
              "      filter: drop-shadow(0px 1px 2px rgba(0, 0, 0, 0.3));\n",
              "      fill: #FFFFFF;\n",
              "    }\n",
              "  </style>\n",
              "\n",
              "      <script>\n",
              "        const buttonEl =\n",
              "          document.querySelector('#df-1760c554-7ae3-4cf4-b19e-60b27f5906a9 button.colab-df-convert');\n",
              "        buttonEl.style.display =\n",
              "          google.colab.kernel.accessAllowed ? 'block' : 'none';\n",
              "\n",
              "        async function convertToInteractive(key) {\n",
              "          const element = document.querySelector('#df-1760c554-7ae3-4cf4-b19e-60b27f5906a9');\n",
              "          const dataTable =\n",
              "            await google.colab.kernel.invokeFunction('convertToInteractive',\n",
              "                                                     [key], {});\n",
              "          if (!dataTable) return;\n",
              "\n",
              "          const docLinkHtml = 'Like what you see? Visit the ' +\n",
              "            '<a target=\"_blank\" href=https://colab.research.google.com/notebooks/data_table.ipynb>data table notebook</a>'\n",
              "            + ' to learn more about interactive tables.';\n",
              "          element.innerHTML = '';\n",
              "          dataTable['output_type'] = 'display_data';\n",
              "          await google.colab.output.renderOutput(dataTable, element);\n",
              "          const docLink = document.createElement('div');\n",
              "          docLink.innerHTML = docLinkHtml;\n",
              "          element.appendChild(docLink);\n",
              "        }\n",
              "      </script>\n",
              "    </div>\n",
              "  </div>\n",
              "  "
            ],
            "text/plain": [
              "        id                                              tweet label\n",
              "0        1  cdc currently reports deaths general discrepan...  real\n",
              "1        2  states reported deaths small rise last tuesday...  real\n",
              "2        3  politically correct woman almost uses pandemic...  fake\n",
              "3        4  indiafightscorona covid testing laboratories i...  real\n",
              "4        5  populous states generate large case counts loo...  real\n",
              "...    ...                                                ...   ...\n",
              "8555  8556  donald trump wrongly claimed new zealand big s...  fake\n",
              "8556  8557  current understanding covid spreads mostly per...  real\n",
              "8557  8558  nothing screams sat around fuck lockdown quite...  fake\n",
              "8558  8559  birx says covid outbreak control people move h...  fake\n",
              "8559  8560  another new coronavirus cases confirmed uk hig...  real\n",
              "\n",
              "[8560 rows x 3 columns]"
            ]
          },
          "metadata": {},
          "execution_count": 34
        }
      ]
    },
    {
      "cell_type": "code",
      "metadata": {
        "colab": {
          "base_uri": "https://localhost:8080/"
        },
        "id": "MOXnUmRVVDKW",
        "outputId": "3cec2ef3-e612-4cb6-f200-c63c4d430864"
      },
      "source": [
        "# news = dataset['tweet'].to_numpy()\n",
        "labels = dataset['label'].to_numpy()\n",
        "# print(news)\n",
        "print(labels)"
      ],
      "execution_count": null,
      "outputs": [
        {
          "output_type": "stream",
          "name": "stdout",
          "text": [
            "['real' 'real' 'fake' ... 'fake' 'fake' 'real']\n"
          ]
        }
      ]
    },
    {
      "cell_type": "code",
      "metadata": {
        "colab": {
          "base_uri": "https://localhost:8080/"
        },
        "id": "qncjclvWW6PY",
        "outputId": "ca0413a9-af23-42c6-fd33-ccd3db14f074"
      },
      "source": [
        "news = dataset.tweet\n",
        "news"
      ],
      "execution_count": null,
      "outputs": [
        {
          "output_type": "execute_result",
          "data": {
            "text/plain": [
              "0       cdc currently reports deaths general discrepan...\n",
              "1       states reported deaths small rise last tuesday...\n",
              "2       politically correct woman almost uses pandemic...\n",
              "3       indiafightscorona covid testing laboratories i...\n",
              "4       populous states generate large case counts loo...\n",
              "                              ...                        \n",
              "8555    donald trump wrongly claimed new zealand big s...\n",
              "8556    current understanding covid spreads mostly per...\n",
              "8557    nothing screams sat around fuck lockdown quite...\n",
              "8558    birx says covid outbreak control people move h...\n",
              "8559    another new coronavirus cases confirmed uk hig...\n",
              "Name: tweet, Length: 8560, dtype: object"
            ]
          },
          "metadata": {},
          "execution_count": 36
        }
      ]
    },
    {
      "cell_type": "markdown",
      "metadata": {
        "id": "8Wrw0INikeZP"
      },
      "source": [
        "###Creating sequences from raw text. \n",
        "(A \"sequence\" is a list of integer word indices.)"
      ]
    },
    {
      "cell_type": "code",
      "metadata": {
        "id": "52wHCX8nXAT7"
      },
      "source": [
        "vocab_size = 12000\n",
        "\n",
        "tokenizer = Tokenizer(num_words=vocab_size) # Setup tokenizer\n",
        "tokenizer.fit_on_texts(news)\n",
        "sequences = tokenizer.texts_to_sequences(news) # Generate sequences"
      ],
      "execution_count": null,
      "outputs": []
    },
    {
      "cell_type": "code",
      "metadata": {
        "colab": {
          "base_uri": "https://localhost:8080/"
        },
        "id": "Noh0ez-ZX2pW",
        "outputId": "43affbee-6457-4438-bc45-81b56de9a534"
      },
      "source": [
        "print (\"total number of sequences:\", len(sequences))\n",
        "print (\"length of one sequence:\", len(sequences[0]))\n",
        "print (\"sequence of first news:\", sequences[0])"
      ],
      "execution_count": null,
      "outputs": [
        {
          "output_type": "stream",
          "name": "stdout",
          "text": [
            "total number of sequences: 8560\n",
            "length of one sequence: 20\n",
            "sequence of first news: [56, 173, 174, 13, 361, 5120, 76, 1180, 391, 1661, 654, 7264, 76, 561, 507, 1547, 8, 18, 1, 1]\n"
          ]
        }
      ]
    },
    {
      "cell_type": "markdown",
      "source": [
        "###Saving the tokenizer object to a file"
      ],
      "metadata": {
        "id": "f6lcOb-ZlSVs"
      }
    },
    {
      "cell_type": "code",
      "source": [
        "import pickle\n",
        "\n",
        "# saving\n",
        "with open('tokenizer.pickle', 'wb') as handle:\n",
        "    pickle.dump(tokenizer, handle, protocol=pickle.HIGHEST_PROTOCOL)\n",
        "\n",
        "# # loading\n",
        "# with open('tokenizer.pickle', 'rb') as handle:\n",
        "#     tokenizer = pickle.load(handle)"
      ],
      "metadata": {
        "id": "MCXxz7BtlP5-"
      },
      "execution_count": null,
      "outputs": []
    },
    {
      "cell_type": "markdown",
      "metadata": {
        "id": "wNM4KU53mBlY"
      },
      "source": [
        "###Total number of unique words identified by the tokenizer"
      ]
    },
    {
      "cell_type": "code",
      "metadata": {
        "colab": {
          "base_uri": "https://localhost:8080/"
        },
        "id": "mHJC7xK7YQTQ",
        "outputId": "0398b699-6d19-4177-9d3f-83a959136675"
      },
      "source": [
        "word_index = tokenizer.word_index\n",
        "print('Found {:,} unique words.'.format(len(word_index)))\n",
        "# vocab_size = len(word_index)"
      ],
      "execution_count": null,
      "outputs": [
        {
          "output_type": "stream",
          "name": "stdout",
          "text": [
            "Found 16,833 unique words.\n"
          ]
        }
      ]
    },
    {
      "cell_type": "markdown",
      "metadata": {
        "id": "aC9zDjYgmU6O"
      },
      "source": [
        "###Create inverse index mapping numbers to words"
      ]
    },
    {
      "cell_type": "code",
      "metadata": {
        "colab": {
          "base_uri": "https://localhost:8080/"
        },
        "id": "0r_AgKWyarHM",
        "outputId": "58e4e655-7b11-4f8d-8241-12b92e42ae69"
      },
      "source": [
        "inv_index = {v: k for k, v in tokenizer.word_index.items()}\n",
        "\n",
        "# Print out text again\n",
        "for w in sequences[0]:\n",
        "    x = inv_index.get(w)\n",
        "    print(x,end = ' ')"
      ],
      "execution_count": null,
      "outputs": [
        {
          "output_type": "stream",
          "name": "stdout",
          "text": [
            "cdc currently reports deaths general discrepancies death counts different sources small explicable death toll stands roughly people today nan nan "
          ]
        }
      ]
    },
    {
      "cell_type": "markdown",
      "metadata": {
        "id": "Ps2FFZgMmmB7"
      },
      "source": [
        "###Calculating average sequence length and it's standard deviation"
      ]
    },
    {
      "cell_type": "code",
      "metadata": {
        "colab": {
          "base_uri": "https://localhost:8080/"
        },
        "id": "ttBhsPDMauAj",
        "outputId": "ea88d138-232e-44e0-dd5d-802df6e3b134"
      },
      "source": [
        "avg = sum(map(len, sequences)) / len(sequences)\n",
        "\n",
        "# Get the standard deviation of the sequence length\n",
        "std = np.sqrt(sum(map(lambda x: (len(x) - avg)**2, sequences)) / len(sequences))\n",
        "\n",
        "avg,std"
      ],
      "execution_count": null,
      "outputs": [
        {
          "output_type": "execute_result",
          "data": {
            "text/plain": [
              "(19.441004672897197, 1.1772873619845727)"
            ]
          },
          "metadata": {},
          "execution_count": 17
        }
      ]
    },
    {
      "cell_type": "markdown",
      "metadata": {
        "id": "YUBwBY2Fmxxv"
      },
      "source": [
        "###Padding the sequences shorter than max_length"
      ]
    },
    {
      "cell_type": "code",
      "metadata": {
        "id": "1T2gAoOBbUIn"
      },
      "source": [
        "X_train = pad_sequences(sequences, maxlen=max_length)"
      ],
      "execution_count": null,
      "outputs": []
    },
    {
      "cell_type": "markdown",
      "metadata": {
        "id": "400EybYkbyIa"
      },
      "source": [
        "###Encoding the output labels"
      ]
    },
    {
      "cell_type": "code",
      "metadata": {
        "id": "QKpWaDcfb4Iz",
        "colab": {
          "base_uri": "https://localhost:8080/"
        },
        "outputId": "aa56dd57-9e7f-4fdf-e59a-a3f2b0a682c2"
      },
      "source": [
        "labels = labels.reshape(-1,1)\n",
        "encoder = LabelEncoder()\n",
        "Y_train = encoder.fit_transform(labels)\n",
        "print('Shape of labels:', Y_train.shape)\n",
        "Y_train = Y_train.reshape(-1,1)\n",
        "print(Y_train)"
      ],
      "execution_count": null,
      "outputs": [
        {
          "output_type": "stream",
          "name": "stdout",
          "text": [
            "Shape of labels: (8560,)\n",
            "[[1]\n",
            " [1]\n",
            " [0]\n",
            " ...\n",
            " [0]\n",
            " [0]\n",
            " [1]]\n"
          ]
        },
        {
          "output_type": "stream",
          "name": "stderr",
          "text": [
            "/usr/local/lib/python3.7/dist-packages/sklearn/preprocessing/_label.py:115: DataConversionWarning: A column-vector y was passed when a 1d array was expected. Please change the shape of y to (n_samples, ), for example using ravel().\n",
            "  y = column_or_1d(y, warn=True)\n"
          ]
        }
      ]
    },
    {
      "cell_type": "markdown",
      "source": [
        "###Saving the encoder to a file"
      ],
      "metadata": {
        "id": "GWrKd9vvnP3f"
      }
    },
    {
      "cell_type": "code",
      "source": [
        "import pickle\n",
        "\n",
        "# saving\n",
        "with open('encoder.pickle', 'wb') as handle:\n",
        "    pickle.dump(encoder, handle, protocol=pickle.HIGHEST_PROTOCOL)\n",
        "\n",
        "# # loading\n",
        "# with open('tokenizer.pickle', 'rb') as handle:\n",
        "#     tokenizer = pickle.load(handle)"
      ],
      "metadata": {
        "id": "CmwZ4JvqnaBq"
      },
      "execution_count": null,
      "outputs": []
    },
    {
      "cell_type": "markdown",
      "metadata": {
        "id": "da5b-IVN3EZJ"
      },
      "source": [
        "###Downloading GLOVE Word Embeddings"
      ]
    },
    {
      "cell_type": "code",
      "metadata": {
        "id": "wpulYqBu3Dbp",
        "colab": {
          "base_uri": "https://localhost:8080/"
        },
        "outputId": "7249f983-1db1-49b4-c8b0-9bbaddf17962"
      },
      "source": [
        "!wget http://nlp.stanford.edu/data/glove.6B.zip\n",
        "!unzip -q glove.6B.zip"
      ],
      "execution_count": null,
      "outputs": [
        {
          "output_type": "stream",
          "name": "stdout",
          "text": [
            "--2022-01-17 16:39:48--  http://nlp.stanford.edu/data/glove.6B.zip\n",
            "Resolving nlp.stanford.edu (nlp.stanford.edu)... 171.64.67.140\n",
            "Connecting to nlp.stanford.edu (nlp.stanford.edu)|171.64.67.140|:80... connected.\n",
            "HTTP request sent, awaiting response... 302 Found\n",
            "Location: https://nlp.stanford.edu/data/glove.6B.zip [following]\n",
            "--2022-01-17 16:39:49--  https://nlp.stanford.edu/data/glove.6B.zip\n",
            "Connecting to nlp.stanford.edu (nlp.stanford.edu)|171.64.67.140|:443... connected.\n",
            "HTTP request sent, awaiting response... 301 Moved Permanently\n",
            "Location: http://downloads.cs.stanford.edu/nlp/data/glove.6B.zip [following]\n",
            "--2022-01-17 16:39:49--  http://downloads.cs.stanford.edu/nlp/data/glove.6B.zip\n",
            "Resolving downloads.cs.stanford.edu (downloads.cs.stanford.edu)... 171.64.64.22\n",
            "Connecting to downloads.cs.stanford.edu (downloads.cs.stanford.edu)|171.64.64.22|:80... connected.\n",
            "HTTP request sent, awaiting response... 200 OK\n",
            "Length: 862182613 (822M) [application/zip]\n",
            "Saving to: ‘glove.6B.zip’\n",
            "\n",
            "glove.6B.zip        100%[===================>] 822.24M  5.01MB/s    in 2m 41s  \n",
            "\n",
            "2022-01-17 16:42:30 (5.11 MB/s) - ‘glove.6B.zip’ saved [862182613/862182613]\n",
            "\n"
          ]
        }
      ]
    },
    {
      "cell_type": "code",
      "metadata": {
        "colab": {
          "base_uri": "https://localhost:8080/"
        },
        "id": "ye-vKVYS3O72",
        "outputId": "49a65452-86a3-494a-f35f-a5becd932761"
      },
      "source": [
        "%ls"
      ],
      "execution_count": null,
      "outputs": [
        {
          "output_type": "stream",
          "name": "stdout",
          "text": [
            "glove.6B.100d.txt  glove.6B.300d.txt  glove.6B.zip  Test.csv\n",
            "glove.6B.200d.txt  glove.6B.50d.txt   \u001b[0m\u001b[01;34msample_data\u001b[0m/  Train.csv\n"
          ]
        }
      ]
    },
    {
      "cell_type": "markdown",
      "metadata": {
        "id": "jQQxZbMfvOrR"
      },
      "source": [
        "###Creating a dictionary mapping word to it's embedding"
      ]
    },
    {
      "cell_type": "code",
      "metadata": {
        "colab": {
          "base_uri": "https://localhost:8080/"
        },
        "id": "vHIw45eH3oFK",
        "outputId": "e8387759-0df8-4659-884a-0df574d10584"
      },
      "source": [
        "import os\n",
        "\n",
        "embeddings_index = {} # We create a dictionary of word -> embedding\n",
        "\n",
        "with open(\"glove.6B.50d.txt\") as f:\n",
        "    for line in f:\n",
        "        values = line.split()\n",
        "        word = values[0] # The first value is the word, the rest are the values of the embedding\n",
        "        embedding = np.asarray(values[1:], dtype='float32') # Load embedding\n",
        "        embeddings_index[word] = embedding # Add embedding to our embedding dictionary\n",
        "\n",
        "print('Found {:,} word vectors in GloVe.'.format(len(embeddings_index)))"
      ],
      "execution_count": null,
      "outputs": [
        {
          "output_type": "stream",
          "name": "stdout",
          "text": [
            "Found 400,000 word vectors in GloVe.\n"
          ]
        }
      ]
    },
    {
      "cell_type": "code",
      "metadata": {
        "colab": {
          "base_uri": "https://localhost:8080/"
        },
        "id": "ORmzH-k23rt6",
        "outputId": "7670641b-dd91-4186-b731-eaefb244b417"
      },
      "source": [
        "print (embeddings_index['frog'])\n",
        "print (len(embeddings_index['frog']))"
      ],
      "execution_count": null,
      "outputs": [
        {
          "output_type": "stream",
          "name": "stdout",
          "text": [
            "[ 0.61038  -0.20757  -0.71951   0.89304   0.32482   0.76564   0.1814\n",
            " -0.33086   0.79173  -0.31664   0.011143  0.45412   1.5992    0.013494\n",
            " -0.093646  0.19245   0.251     1.1277   -1.0897   -0.42909  -1.1327\n",
            " -0.90465   0.5617   -0.058464  1.0007   -0.39017  -0.41665   0.73721\n",
            " -0.53824  -0.95993   0.67929  -0.59053   0.13408   0.54273  -0.36615\n",
            "  0.014978 -0.2496   -0.81088   0.078905 -0.97552  -0.66394  -0.18508\n",
            " -0.87174   0.30782   1.2839   -0.14884   0.62178  -1.509     0.14582\n",
            " -0.31682 ]\n",
            "50\n"
          ]
        }
      ]
    },
    {
      "cell_type": "markdown",
      "metadata": {
        "id": "pswlpli8wZWE"
      },
      "source": [
        "###Mapping the words in vocabulary to their word embeddings"
      ]
    },
    {
      "cell_type": "code",
      "metadata": {
        "id": "M1DcThXv5Hgu"
      },
      "source": [
        "embedding_dim = 50 # We use 50 dimensional glove vectors\n",
        "\n",
        "word_index = tokenizer.word_index\n",
        "nb_words = min(vocab_size, len(word_index)) # How many words are there actually\n",
        "\n",
        "embedding_matrix = np.zeros((nb_words, embedding_dim))\n",
        "\n",
        "# The vectors need to be in the same position as their index. \n",
        "# Meaning a word with token 1 needs to be in the second row (rows start with zero) and so on\n",
        "\n",
        "# Loop over all words in the word index\n",
        "for word, i in word_index.items():\n",
        "    # If we are above the amount of words we want to use we do nothing\n",
        "    if i >= vocab_size: \n",
        "        continue\n",
        "    # Get the embedding vector for the word\n",
        "    embedding_vector = embeddings_index.get(word)\n",
        "    # If there is an embedding vector, put it in the embedding matrix\n",
        "    if embedding_vector is not None: \n",
        "        embedding_matrix[i] = embedding_vector"
      ],
      "execution_count": null,
      "outputs": []
    },
    {
      "cell_type": "code",
      "metadata": {
        "colab": {
          "base_uri": "https://localhost:8080/"
        },
        "id": "lcTWhNjb8Gv2",
        "outputId": "cb5129cd-568f-4939-8927-e387d3697fde"
      },
      "source": [
        "print (len(embedding_matrix))"
      ],
      "execution_count": null,
      "outputs": [
        {
          "output_type": "stream",
          "name": "stdout",
          "text": [
            "12000\n"
          ]
        }
      ]
    },
    {
      "cell_type": "code",
      "metadata": {
        "colab": {
          "base_uri": "https://localhost:8080/"
        },
        "id": "NsdmicHo8KwH",
        "outputId": "891a1266-5ff9-4694-d8be-2c813935166a"
      },
      "source": [
        "print(\"word at index 5: \",inv_index.get(5))\n",
        "print(\"embedding at index 5: \\n\",embedding_matrix[5])"
      ],
      "execution_count": null,
      "outputs": [
        {
          "output_type": "stream",
          "name": "stdout",
          "text": [
            "word at index 5:  cases\n",
            "embedding at index 5: \n",
            " [ 1.06669998 -0.58908999 -0.1097      0.24335    -0.12807     1.38300002\n",
            "  0.87190998 -0.12948     0.98434001 -0.060635   -0.22155    -0.48973\n",
            "  0.17967001 -0.72794998  1.53190005 -0.51800001 -0.89722002 -0.47947001\n",
            " -0.099917   -0.53544003 -0.25356999 -0.14473     0.81770003  0.21028\n",
            " -0.53527999 -1.72290003 -0.23533    -0.42675999 -0.22517    -0.033998\n",
            "  3.06809998 -0.38766     0.43658    -1.06920004  0.32944    -0.16994999\n",
            "  0.54683    -0.18122999  0.18144     0.15913001 -0.87827998  0.28832999\n",
            "  1.48650002  1.48370004  0.31420001  0.20116    -0.45547     0.32681\n",
            "  0.031446   -0.2658    ]\n"
          ]
        }
      ]
    },
    {
      "cell_type": "markdown",
      "metadata": {
        "id": "Nkw99ytTxRgo"
      },
      "source": [
        "#Machine Learning models"
      ]
    },
    {
      "cell_type": "markdown",
      "metadata": {
        "id": "QL4LhLeNxdZq"
      },
      "source": [
        "##Importing keras layers"
      ]
    },
    {
      "cell_type": "code",
      "metadata": {
        "id": "0vgAk4v69Z-I"
      },
      "source": [
        "from keras.layers import Activation, Conv1D,LSTM, Dense, Embedding, Flatten, Input, MaxPooling1D, SpatialDropout1D\n",
        "from keras.models import Sequential\n",
        "import tensorflow as tf"
      ],
      "execution_count": null,
      "outputs": []
    },
    {
      "cell_type": "markdown",
      "metadata": {
        "id": "4omzZs5cxj8Q"
      },
      "source": [
        "##Defining the models"
      ]
    },
    {
      "cell_type": "markdown",
      "metadata": {
        "id": "coEaQLWAuTag"
      },
      "source": [
        "###ANN"
      ]
    },
    {
      "cell_type": "code",
      "metadata": {
        "id": "gAVZwxuyxX20"
      },
      "source": [
        "# model = Sequential()\n",
        "# model.add(Embedding(vocab_size, \n",
        "#                     embedding_dim, \n",
        "#                     input_length=max_length, \n",
        "#                     weights = [embedding_matrix], \n",
        "#                     trainable = False))\n",
        "# model.add(Dense(50, activation='relu'))\n",
        "# model.add(Flatten())\n",
        "# model.add(Dense(512, activation='relu'))\n",
        "# model.add(Dense(32, activation='relu'))\n",
        "# model.add(Dense(1, activation='sigmoid'))\n",
        "# model.summary()"
      ],
      "execution_count": null,
      "outputs": []
    },
    {
      "cell_type": "markdown",
      "metadata": {
        "id": "KnFywkztui6O"
      },
      "source": [
        "###LSTM\n"
      ]
    },
    {
      "cell_type": "code",
      "metadata": {
        "id": "SQna2FrZG3i1",
        "colab": {
          "base_uri": "https://localhost:8080/"
        },
        "outputId": "3ac5953b-6150-4ee4-fe89-deb2235dd999"
      },
      "source": [
        "model = Sequential()\n",
        "model.add(Embedding(vocab_size, \n",
        "                    embedding_dim, \n",
        "                    input_length=max_length, \n",
        "                    weights = [embedding_matrix], \n",
        "                    trainable = False))\n",
        "model.add(SpatialDropout1D(0.1))\n",
        "model.add(LSTM(128,dropout=0.1,recurrent_dropout=0))\n",
        "model.add(Dense(1, activation='sigmoid'))\n",
        "model.summary()"
      ],
      "execution_count": null,
      "outputs": [
        {
          "output_type": "stream",
          "name": "stdout",
          "text": [
            "Model: \"sequential\"\n",
            "_________________________________________________________________\n",
            " Layer (type)                Output Shape              Param #   \n",
            "=================================================================\n",
            " embedding (Embedding)       (None, 20, 50)            600000    \n",
            "                                                                 \n",
            " spatial_dropout1d (SpatialD  (None, 20, 50)           0         \n",
            " ropout1D)                                                       \n",
            "                                                                 \n",
            " lstm (LSTM)                 (None, 128)               91648     \n",
            "                                                                 \n",
            " dense (Dense)               (None, 1)                 129       \n",
            "                                                                 \n",
            "=================================================================\n",
            "Total params: 691,777\n",
            "Trainable params: 91,777\n",
            "Non-trainable params: 600,000\n",
            "_________________________________________________________________\n"
          ]
        }
      ]
    },
    {
      "cell_type": "markdown",
      "metadata": {
        "id": "HP8SqRRsueni"
      },
      "source": [
        "###CNN\n"
      ]
    },
    {
      "cell_type": "code",
      "metadata": {
        "id": "yc8Cn-Lq889k"
      },
      "source": [
        "# model = Sequential()\n",
        "# model.add(Embedding(vocab_size, \n",
        "#                     embedding_dim, \n",
        "#                     input_length=max_length, \n",
        "#                     weights = [embedding_matrix], \n",
        "#                     trainable = False))\n",
        "# model.add(Conv1D(256, 3, activation='relu'))\n",
        "# model.add(MaxPooling1D(3))\n",
        "# model.add(Conv1D(128, 1, activation='relu'))\n",
        "# model.add(MaxPooling1D(1))\n",
        "# model.add(Flatten())\n",
        "# model.add(Dense(1024, activation='relu'))\n",
        "# model.add(Dense(1, activation='sigmoid'))\n",
        "# model.summary()"
      ],
      "execution_count": null,
      "outputs": []
    },
    {
      "cell_type": "code",
      "metadata": {
        "id": "aArPwRzW-2DB"
      },
      "source": [
        "model.compile(optimizer='adam', loss='binary_crossentropy', metrics=['acc'])"
      ],
      "execution_count": null,
      "outputs": []
    },
    {
      "cell_type": "code",
      "metadata": {
        "id": "XaqnOcnE-80H"
      },
      "source": [
        "from keras.callbacks import EarlyStopping, ReduceLROnPlateau, ModelCheckpoint, TensorBoard"
      ],
      "execution_count": null,
      "outputs": []
    },
    {
      "cell_type": "markdown",
      "metadata": {
        "id": "xH8_SzvgxtgX"
      },
      "source": [
        "###Fitting the model on the training dataset"
      ]
    },
    {
      "cell_type": "code",
      "metadata": {
        "colab": {
          "base_uri": "https://localhost:8080/"
        },
        "id": "dIAnqOtI_ErL",
        "outputId": "fff1b422-316d-46e5-c45c-85ff1c625bf0"
      },
      "source": [
        "es = EarlyStopping(monitor='val_acc', min_delta=1e-10, patience=8, verbose=1)\n",
        "rlr = ReduceLROnPlateau(monitor='val_acc', factor=0.5, patience=4, verbose=1)\n",
        "mcp = ModelCheckpoint(filepath='weights.h5', monitor='val_acc', verbose=1, save_best_only=True, save_weights_only=True)\n",
        "tb = TensorBoard('logs')\n",
        " \n",
        "history = model.fit(X_train, Y_train, epochs=150, callbacks=[es, rlr,mcp, tb],validation_split = 0.1, verbose=1, batch_size=16)"
      ],
      "execution_count": null,
      "outputs": [
        {
          "output_type": "stream",
          "name": "stdout",
          "text": [
            "Epoch 1/150\n",
            "475/482 [============================>.] - ETA: 0s - loss: 0.3695 - acc: 0.8367\n",
            "Epoch 00001: val_acc improved from -inf to 0.87617, saving model to weights.h5\n",
            "482/482 [==============================] - 9s 7ms/step - loss: 0.3693 - acc: 0.8370 - val_loss: 0.2832 - val_acc: 0.8762 - lr: 0.0010\n",
            "Epoch 2/150\n",
            "474/482 [============================>.] - ETA: 0s - loss: 0.2756 - acc: 0.8852\n",
            "Epoch 00002: val_acc improved from 0.87617 to 0.88668, saving model to weights.h5\n",
            "482/482 [==============================] - 3s 6ms/step - loss: 0.2753 - acc: 0.8851 - val_loss: 0.2831 - val_acc: 0.8867 - lr: 0.0010\n",
            "Epoch 3/150\n",
            "473/482 [============================>.] - ETA: 0s - loss: 0.2518 - acc: 0.8965\n",
            "Epoch 00003: val_acc improved from 0.88668 to 0.90304, saving model to weights.h5\n",
            "482/482 [==============================] - 3s 5ms/step - loss: 0.2524 - acc: 0.8965 - val_loss: 0.2269 - val_acc: 0.9030 - lr: 0.0010\n",
            "Epoch 4/150\n",
            "482/482 [==============================] - ETA: 0s - loss: 0.2231 - acc: 0.9093\n",
            "Epoch 00004: val_acc did not improve from 0.90304\n",
            "482/482 [==============================] - 3s 5ms/step - loss: 0.2231 - acc: 0.9093 - val_loss: 0.2347 - val_acc: 0.8972 - lr: 0.0010\n",
            "Epoch 5/150\n",
            "478/482 [============================>.] - ETA: 0s - loss: 0.1996 - acc: 0.9206\n",
            "Epoch 00005: val_acc did not improve from 0.90304\n",
            "482/482 [==============================] - 3s 5ms/step - loss: 0.2000 - acc: 0.9203 - val_loss: 0.2477 - val_acc: 0.8972 - lr: 0.0010\n",
            "Epoch 6/150\n",
            "476/482 [============================>.] - ETA: 0s - loss: 0.1863 - acc: 0.9248\n",
            "Epoch 00006: val_acc improved from 0.90304 to 0.90888, saving model to weights.h5\n",
            "482/482 [==============================] - 3s 6ms/step - loss: 0.1869 - acc: 0.9246 - val_loss: 0.2034 - val_acc: 0.9089 - lr: 0.0010\n",
            "Epoch 7/150\n",
            "480/482 [============================>.] - ETA: 0s - loss: 0.1651 - acc: 0.9342\n",
            "Epoch 00007: val_acc did not improve from 0.90888\n",
            "482/482 [==============================] - 3s 5ms/step - loss: 0.1653 - acc: 0.9341 - val_loss: 0.2061 - val_acc: 0.9065 - lr: 0.0010\n",
            "Epoch 8/150\n",
            "479/482 [============================>.] - ETA: 0s - loss: 0.1547 - acc: 0.9382\n",
            "Epoch 00008: val_acc improved from 0.90888 to 0.91706, saving model to weights.h5\n",
            "482/482 [==============================] - 3s 6ms/step - loss: 0.1545 - acc: 0.9381 - val_loss: 0.2064 - val_acc: 0.9171 - lr: 0.0010\n",
            "Epoch 9/150\n",
            "474/482 [============================>.] - ETA: 0s - loss: 0.1337 - acc: 0.9486\n",
            "Epoch 00009: val_acc did not improve from 0.91706\n",
            "482/482 [==============================] - 3s 5ms/step - loss: 0.1332 - acc: 0.9489 - val_loss: 0.2107 - val_acc: 0.9159 - lr: 0.0010\n",
            "Epoch 10/150\n",
            "474/482 [============================>.] - ETA: 0s - loss: 0.1255 - acc: 0.9504\n",
            "Epoch 00010: val_acc did not improve from 0.91706\n",
            "482/482 [==============================] - 3s 6ms/step - loss: 0.1253 - acc: 0.9507 - val_loss: 0.2029 - val_acc: 0.9147 - lr: 0.0010\n",
            "Epoch 11/150\n",
            "480/482 [============================>.] - ETA: 0s - loss: 0.1097 - acc: 0.9591\n",
            "Epoch 00011: val_acc did not improve from 0.91706\n",
            "482/482 [==============================] - 3s 6ms/step - loss: 0.1104 - acc: 0.9590 - val_loss: 0.2095 - val_acc: 0.9159 - lr: 0.0010\n",
            "Epoch 12/150\n",
            "474/482 [============================>.] - ETA: 0s - loss: 0.1045 - acc: 0.9616\n",
            "Epoch 00012: ReduceLROnPlateau reducing learning rate to 0.0005000000237487257.\n",
            "\n",
            "Epoch 00012: val_acc did not improve from 0.91706\n",
            "482/482 [==============================] - 3s 5ms/step - loss: 0.1050 - acc: 0.9614 - val_loss: 0.2387 - val_acc: 0.9136 - lr: 0.0010\n",
            "Epoch 13/150\n",
            "473/482 [============================>.] - ETA: 0s - loss: 0.0753 - acc: 0.9713\n",
            "Epoch 00013: val_acc improved from 0.91706 to 0.91822, saving model to weights.h5\n",
            "482/482 [==============================] - 3s 6ms/step - loss: 0.0747 - acc: 0.9716 - val_loss: 0.2112 - val_acc: 0.9182 - lr: 5.0000e-04\n",
            "Epoch 14/150\n",
            "477/482 [============================>.] - ETA: 0s - loss: 0.0711 - acc: 0.9737\n",
            "Epoch 00014: val_acc improved from 0.91822 to 0.91939, saving model to weights.h5\n",
            "482/482 [==============================] - 3s 6ms/step - loss: 0.0716 - acc: 0.9735 - val_loss: 0.2171 - val_acc: 0.9194 - lr: 5.0000e-04\n",
            "Epoch 15/150\n",
            "482/482 [==============================] - ETA: 0s - loss: 0.0661 - acc: 0.9734\n",
            "Epoch 00015: val_acc improved from 0.91939 to 0.92290, saving model to weights.h5\n",
            "482/482 [==============================] - 3s 5ms/step - loss: 0.0661 - acc: 0.9734 - val_loss: 0.2554 - val_acc: 0.9229 - lr: 5.0000e-04\n",
            "Epoch 16/150\n",
            "482/482 [==============================] - ETA: 0s - loss: 0.0628 - acc: 0.9769\n",
            "Epoch 00016: val_acc did not improve from 0.92290\n",
            "482/482 [==============================] - 3s 5ms/step - loss: 0.0628 - acc: 0.9769 - val_loss: 0.2159 - val_acc: 0.9194 - lr: 5.0000e-04\n",
            "Epoch 17/150\n",
            "476/482 [============================>.] - ETA: 0s - loss: 0.0519 - acc: 0.9815\n",
            "Epoch 00017: val_acc improved from 0.92290 to 0.93107, saving model to weights.h5\n",
            "482/482 [==============================] - 3s 5ms/step - loss: 0.0519 - acc: 0.9814 - val_loss: 0.2381 - val_acc: 0.9311 - lr: 5.0000e-04\n",
            "Epoch 18/150\n",
            "477/482 [============================>.] - ETA: 0s - loss: 0.0470 - acc: 0.9822\n",
            "Epoch 00018: val_acc did not improve from 0.93107\n",
            "482/482 [==============================] - 3s 6ms/step - loss: 0.0470 - acc: 0.9822 - val_loss: 0.2698 - val_acc: 0.9229 - lr: 5.0000e-04\n",
            "Epoch 19/150\n",
            "476/482 [============================>.] - ETA: 0s - loss: 0.0468 - acc: 0.9837\n",
            "Epoch 00019: val_acc did not improve from 0.93107\n",
            "482/482 [==============================] - 3s 5ms/step - loss: 0.0476 - acc: 0.9835 - val_loss: 0.2677 - val_acc: 0.9241 - lr: 5.0000e-04\n",
            "Epoch 20/150\n",
            "472/482 [============================>.] - ETA: 0s - loss: 0.0466 - acc: 0.9831\n",
            "Epoch 00020: val_acc did not improve from 0.93107\n",
            "482/482 [==============================] - 3s 5ms/step - loss: 0.0471 - acc: 0.9831 - val_loss: 0.2563 - val_acc: 0.9194 - lr: 5.0000e-04\n",
            "Epoch 21/150\n",
            "480/482 [============================>.] - ETA: 0s - loss: 0.0482 - acc: 0.9833\n",
            "Epoch 00021: ReduceLROnPlateau reducing learning rate to 0.0002500000118743628.\n",
            "\n",
            "Epoch 00021: val_acc did not improve from 0.93107\n",
            "482/482 [==============================] - 3s 6ms/step - loss: 0.0486 - acc: 0.9831 - val_loss: 0.2502 - val_acc: 0.9217 - lr: 5.0000e-04\n",
            "Epoch 22/150\n",
            "479/482 [============================>.] - ETA: 0s - loss: 0.0320 - acc: 0.9888\n",
            "Epoch 00022: val_acc did not improve from 0.93107\n",
            "482/482 [==============================] - 3s 6ms/step - loss: 0.0320 - acc: 0.9888 - val_loss: 0.2678 - val_acc: 0.9229 - lr: 2.5000e-04\n",
            "Epoch 23/150\n",
            "478/482 [============================>.] - ETA: 0s - loss: 0.0313 - acc: 0.9895\n",
            "Epoch 00023: val_acc did not improve from 0.93107\n",
            "482/482 [==============================] - 3s 6ms/step - loss: 0.0317 - acc: 0.9894 - val_loss: 0.2677 - val_acc: 0.9206 - lr: 2.5000e-04\n",
            "Epoch 24/150\n",
            "480/482 [============================>.] - ETA: 0s - loss: 0.0271 - acc: 0.9908\n",
            "Epoch 00024: val_acc did not improve from 0.93107\n",
            "482/482 [==============================] - 3s 5ms/step - loss: 0.0271 - acc: 0.9908 - val_loss: 0.2825 - val_acc: 0.9241 - lr: 2.5000e-04\n",
            "Epoch 25/150\n",
            "479/482 [============================>.] - ETA: 0s - loss: 0.0337 - acc: 0.9888\n",
            "Epoch 00025: ReduceLROnPlateau reducing learning rate to 0.0001250000059371814.\n",
            "\n",
            "Epoch 00025: val_acc did not improve from 0.93107\n",
            "482/482 [==============================] - 3s 5ms/step - loss: 0.0336 - acc: 0.9888 - val_loss: 0.2621 - val_acc: 0.9194 - lr: 2.5000e-04\n",
            "Epoch 00025: early stopping\n"
          ]
        }
      ]
    },
    {
      "cell_type": "markdown",
      "source": [
        "##Saving the model\n"
      ],
      "metadata": {
        "id": "-XM24AgpDPjt"
      }
    },
    {
      "cell_type": "code",
      "source": [
        "from keras.models import load_model\n",
        "model.save('my_model') \n"
      ],
      "metadata": {
        "id": "Acj-7N2pByQV",
        "colab": {
          "base_uri": "https://localhost:8080/"
        },
        "outputId": "d34a6147-8d3f-4fa0-8edb-b019c07f81cb"
      },
      "execution_count": null,
      "outputs": [
        {
          "output_type": "stream",
          "name": "stderr",
          "text": [
            "WARNING:absl:Found untraced functions such as lstm_cell_layer_call_fn, lstm_cell_layer_call_and_return_conditional_losses, lstm_cell_layer_call_fn, lstm_cell_layer_call_and_return_conditional_losses, lstm_cell_layer_call_and_return_conditional_losses while saving (showing 5 of 5). These functions will not be directly callable after loading.\n"
          ]
        },
        {
          "output_type": "stream",
          "name": "stdout",
          "text": [
            "INFO:tensorflow:Assets written to: my_model/assets\n"
          ]
        },
        {
          "output_type": "stream",
          "name": "stderr",
          "text": [
            "INFO:tensorflow:Assets written to: my_model/assets\n",
            "WARNING:absl:<keras.layers.recurrent.LSTMCell object at 0x7f62402cc990> has the same name 'LSTMCell' as a built-in Keras object. Consider renaming <class 'keras.layers.recurrent.LSTMCell'> to avoid naming conflicts when loading with `tf.keras.models.load_model`. If renaming is not possible, pass the object in the `custom_objects` parameter of the load function.\n"
          ]
        }
      ]
    },
    {
      "cell_type": "code",
      "source": [
        "!zip -r /content/my_model.zip /content/my_model \n"
      ],
      "metadata": {
        "colab": {
          "base_uri": "https://localhost:8080/"
        },
        "id": "4mMDO6moF77e",
        "outputId": "f7deaea6-d10f-4acf-96de-899f61dc3fb6"
      },
      "execution_count": null,
      "outputs": [
        {
          "output_type": "stream",
          "name": "stdout",
          "text": [
            "  adding: content/my_model/ (stored 0%)\n",
            "  adding: content/my_model/saved_model.pb (deflated 89%)\n",
            "  adding: content/my_model/variables/ (stored 0%)\n",
            "  adding: content/my_model/variables/variables.data-00000-of-00001 (deflated 21%)\n",
            "  adding: content/my_model/variables/variables.index (deflated 60%)\n",
            "  adding: content/my_model/assets/ (stored 0%)\n",
            "  adding: content/my_model/keras_metadata.pb (deflated 87%)\n"
          ]
        }
      ]
    },
    {
      "cell_type": "markdown",
      "metadata": {
        "id": "dTZtWDrAyBYV"
      },
      "source": [
        "##Testing the trained model"
      ]
    },
    {
      "cell_type": "markdown",
      "metadata": {
        "id": "snk6SqGCyGI-"
      },
      "source": [
        "###Import test dataset"
      ]
    },
    {
      "cell_type": "code",
      "metadata": {
        "colab": {
          "base_uri": "https://localhost:8080/",
          "height": 423
        },
        "id": "4tAv5SiLOvZp",
        "outputId": "44802a30-3014-43a9-e69f-2f4d7e81d70b"
      },
      "source": [
        "test_data = pd.read_csv('Test.csv')\n",
        "test_data"
      ],
      "execution_count": null,
      "outputs": [
        {
          "output_type": "execute_result",
          "data": {
            "text/html": [
              "\n",
              "  <div id=\"df-1a0ca6c8-e902-45a5-9fc6-8b267f533501\">\n",
              "    <div class=\"colab-df-container\">\n",
              "      <div>\n",
              "<style scoped>\n",
              "    .dataframe tbody tr th:only-of-type {\n",
              "        vertical-align: middle;\n",
              "    }\n",
              "\n",
              "    .dataframe tbody tr th {\n",
              "        vertical-align: top;\n",
              "    }\n",
              "\n",
              "    .dataframe thead th {\n",
              "        text-align: right;\n",
              "    }\n",
              "</style>\n",
              "<table border=\"1\" class=\"dataframe\">\n",
              "  <thead>\n",
              "    <tr style=\"text-align: right;\">\n",
              "      <th></th>\n",
              "      <th>id</th>\n",
              "      <th>tweet</th>\n",
              "      <th>label</th>\n",
              "    </tr>\n",
              "  </thead>\n",
              "  <tbody>\n",
              "    <tr>\n",
              "      <th>0</th>\n",
              "      <td>1</td>\n",
              "      <td>Our daily update is published. States reported...</td>\n",
              "      <td>real</td>\n",
              "    </tr>\n",
              "    <tr>\n",
              "      <th>1</th>\n",
              "      <td>2</td>\n",
              "      <td>Alfalfa is the only cure for COVID-19.</td>\n",
              "      <td>fake</td>\n",
              "    </tr>\n",
              "    <tr>\n",
              "      <th>2</th>\n",
              "      <td>3</td>\n",
              "      <td>President Trump Asked What He Would Do If He W...</td>\n",
              "      <td>fake</td>\n",
              "    </tr>\n",
              "    <tr>\n",
              "      <th>3</th>\n",
              "      <td>4</td>\n",
              "      <td>States reported 630 deaths. We are still seein...</td>\n",
              "      <td>real</td>\n",
              "    </tr>\n",
              "    <tr>\n",
              "      <th>4</th>\n",
              "      <td>5</td>\n",
              "      <td>This is the sixth time a global health emergen...</td>\n",
              "      <td>real</td>\n",
              "    </tr>\n",
              "    <tr>\n",
              "      <th>...</th>\n",
              "      <td>...</td>\n",
              "      <td>...</td>\n",
              "      <td>...</td>\n",
              "    </tr>\n",
              "    <tr>\n",
              "      <th>2135</th>\n",
              "      <td>2136</td>\n",
              "      <td>#CoronaVirusUpdates: State-wise details of Tot...</td>\n",
              "      <td>real</td>\n",
              "    </tr>\n",
              "    <tr>\n",
              "      <th>2136</th>\n",
              "      <td>2137</td>\n",
              "      <td>Tonight 12(midnight) onwards Disaster Manageme...</td>\n",
              "      <td>fake</td>\n",
              "    </tr>\n",
              "    <tr>\n",
              "      <th>2137</th>\n",
              "      <td>2138</td>\n",
              "      <td>296 new cases of #COVID19Nigeria; Plateau-85 E...</td>\n",
              "      <td>real</td>\n",
              "    </tr>\n",
              "    <tr>\n",
              "      <th>2138</th>\n",
              "      <td>2139</td>\n",
              "      <td>RT @CDCemergency: #DYK? @CDCgov’s One-Stop Sho...</td>\n",
              "      <td>real</td>\n",
              "    </tr>\n",
              "    <tr>\n",
              "      <th>2139</th>\n",
              "      <td>2140</td>\n",
              "      <td>More than half of pregnant women recently admi...</td>\n",
              "      <td>real</td>\n",
              "    </tr>\n",
              "  </tbody>\n",
              "</table>\n",
              "<p>2140 rows × 3 columns</p>\n",
              "</div>\n",
              "      <button class=\"colab-df-convert\" onclick=\"convertToInteractive('df-1a0ca6c8-e902-45a5-9fc6-8b267f533501')\"\n",
              "              title=\"Convert this dataframe to an interactive table.\"\n",
              "              style=\"display:none;\">\n",
              "        \n",
              "  <svg xmlns=\"http://www.w3.org/2000/svg\" height=\"24px\"viewBox=\"0 0 24 24\"\n",
              "       width=\"24px\">\n",
              "    <path d=\"M0 0h24v24H0V0z\" fill=\"none\"/>\n",
              "    <path d=\"M18.56 5.44l.94 2.06.94-2.06 2.06-.94-2.06-.94-.94-2.06-.94 2.06-2.06.94zm-11 1L8.5 8.5l.94-2.06 2.06-.94-2.06-.94L8.5 2.5l-.94 2.06-2.06.94zm10 10l.94 2.06.94-2.06 2.06-.94-2.06-.94-.94-2.06-.94 2.06-2.06.94z\"/><path d=\"M17.41 7.96l-1.37-1.37c-.4-.4-.92-.59-1.43-.59-.52 0-1.04.2-1.43.59L10.3 9.45l-7.72 7.72c-.78.78-.78 2.05 0 2.83L4 21.41c.39.39.9.59 1.41.59.51 0 1.02-.2 1.41-.59l7.78-7.78 2.81-2.81c.8-.78.8-2.07 0-2.86zM5.41 20L4 18.59l7.72-7.72 1.47 1.35L5.41 20z\"/>\n",
              "  </svg>\n",
              "      </button>\n",
              "      \n",
              "  <style>\n",
              "    .colab-df-container {\n",
              "      display:flex;\n",
              "      flex-wrap:wrap;\n",
              "      gap: 12px;\n",
              "    }\n",
              "\n",
              "    .colab-df-convert {\n",
              "      background-color: #E8F0FE;\n",
              "      border: none;\n",
              "      border-radius: 50%;\n",
              "      cursor: pointer;\n",
              "      display: none;\n",
              "      fill: #1967D2;\n",
              "      height: 32px;\n",
              "      padding: 0 0 0 0;\n",
              "      width: 32px;\n",
              "    }\n",
              "\n",
              "    .colab-df-convert:hover {\n",
              "      background-color: #E2EBFA;\n",
              "      box-shadow: 0px 1px 2px rgba(60, 64, 67, 0.3), 0px 1px 3px 1px rgba(60, 64, 67, 0.15);\n",
              "      fill: #174EA6;\n",
              "    }\n",
              "\n",
              "    [theme=dark] .colab-df-convert {\n",
              "      background-color: #3B4455;\n",
              "      fill: #D2E3FC;\n",
              "    }\n",
              "\n",
              "    [theme=dark] .colab-df-convert:hover {\n",
              "      background-color: #434B5C;\n",
              "      box-shadow: 0px 1px 3px 1px rgba(0, 0, 0, 0.15);\n",
              "      filter: drop-shadow(0px 1px 2px rgba(0, 0, 0, 0.3));\n",
              "      fill: #FFFFFF;\n",
              "    }\n",
              "  </style>\n",
              "\n",
              "      <script>\n",
              "        const buttonEl =\n",
              "          document.querySelector('#df-1a0ca6c8-e902-45a5-9fc6-8b267f533501 button.colab-df-convert');\n",
              "        buttonEl.style.display =\n",
              "          google.colab.kernel.accessAllowed ? 'block' : 'none';\n",
              "\n",
              "        async function convertToInteractive(key) {\n",
              "          const element = document.querySelector('#df-1a0ca6c8-e902-45a5-9fc6-8b267f533501');\n",
              "          const dataTable =\n",
              "            await google.colab.kernel.invokeFunction('convertToInteractive',\n",
              "                                                     [key], {});\n",
              "          if (!dataTable) return;\n",
              "\n",
              "          const docLinkHtml = 'Like what you see? Visit the ' +\n",
              "            '<a target=\"_blank\" href=https://colab.research.google.com/notebooks/data_table.ipynb>data table notebook</a>'\n",
              "            + ' to learn more about interactive tables.';\n",
              "          element.innerHTML = '';\n",
              "          dataTable['output_type'] = 'display_data';\n",
              "          await google.colab.output.renderOutput(dataTable, element);\n",
              "          const docLink = document.createElement('div');\n",
              "          docLink.innerHTML = docLinkHtml;\n",
              "          element.appendChild(docLink);\n",
              "        }\n",
              "      </script>\n",
              "    </div>\n",
              "  </div>\n",
              "  "
            ],
            "text/plain": [
              "        id                                              tweet label\n",
              "0        1  Our daily update is published. States reported...  real\n",
              "1        2             Alfalfa is the only cure for COVID-19.  fake\n",
              "2        3  President Trump Asked What He Would Do If He W...  fake\n",
              "3        4  States reported 630 deaths. We are still seein...  real\n",
              "4        5  This is the sixth time a global health emergen...  real\n",
              "...    ...                                                ...   ...\n",
              "2135  2136  #CoronaVirusUpdates: State-wise details of Tot...  real\n",
              "2136  2137  Tonight 12(midnight) onwards Disaster Manageme...  fake\n",
              "2137  2138  296 new cases of #COVID19Nigeria; Plateau-85 E...  real\n",
              "2138  2139  RT @CDCemergency: #DYK? @CDCgov’s One-Stop Sho...  real\n",
              "2139  2140  More than half of pregnant women recently admi...  real\n",
              "\n",
              "[2140 rows x 3 columns]"
            ]
          },
          "metadata": {},
          "execution_count": 34
        }
      ]
    },
    {
      "cell_type": "markdown",
      "metadata": {
        "id": "Vgmxx6kRyJ0K"
      },
      "source": [
        "###Apply preprocessing to test data"
      ]
    },
    {
      "cell_type": "code",
      "metadata": {
        "colab": {
          "base_uri": "https://localhost:8080/",
          "height": 423
        },
        "id": "k5KdVR8EO4Z0",
        "outputId": "637f66b0-34e5-4b4b-a4c8-240dc0dcf38b"
      },
      "source": [
        "test_data.tweet = test_data.tweet.apply(remove_noise)\n",
        "test_data.tweet = test_data.tweet.apply(remove_stopwords)\n",
        "test_data.tweet = test_data.tweet.apply(truncate)\n",
        "test_data"
      ],
      "execution_count": null,
      "outputs": [
        {
          "output_type": "execute_result",
          "data": {
            "text/html": [
              "\n",
              "  <div id=\"df-977aca9a-e61f-4524-bfda-0a3c1504b383\">\n",
              "    <div class=\"colab-df-container\">\n",
              "      <div>\n",
              "<style scoped>\n",
              "    .dataframe tbody tr th:only-of-type {\n",
              "        vertical-align: middle;\n",
              "    }\n",
              "\n",
              "    .dataframe tbody tr th {\n",
              "        vertical-align: top;\n",
              "    }\n",
              "\n",
              "    .dataframe thead th {\n",
              "        text-align: right;\n",
              "    }\n",
              "</style>\n",
              "<table border=\"1\" class=\"dataframe\">\n",
              "  <thead>\n",
              "    <tr style=\"text-align: right;\">\n",
              "      <th></th>\n",
              "      <th>id</th>\n",
              "      <th>tweet</th>\n",
              "      <th>label</th>\n",
              "    </tr>\n",
              "  </thead>\n",
              "  <tbody>\n",
              "    <tr>\n",
              "      <th>0</th>\n",
              "      <td>1</td>\n",
              "      <td>daily update published states reported tests n...</td>\n",
              "      <td>real</td>\n",
              "    </tr>\n",
              "    <tr>\n",
              "      <th>1</th>\n",
              "      <td>2</td>\n",
              "      <td>alfalfa cure covid nan nan nan nan nan nan nan...</td>\n",
              "      <td>fake</td>\n",
              "    </tr>\n",
              "    <tr>\n",
              "      <th>2</th>\n",
              "      <td>3</td>\n",
              "      <td>president trump asked would catch coronavirus ...</td>\n",
              "      <td>fake</td>\n",
              "    </tr>\n",
              "    <tr>\n",
              "      <th>3</th>\n",
              "      <td>4</td>\n",
              "      <td>states reported deaths still seeing solid nati...</td>\n",
              "      <td>real</td>\n",
              "    </tr>\n",
              "    <tr>\n",
              "      <th>4</th>\n",
              "      <td>5</td>\n",
              "      <td>sixth time global health emergency declared in...</td>\n",
              "      <td>real</td>\n",
              "    </tr>\n",
              "    <tr>\n",
              "      <th>...</th>\n",
              "      <td>...</td>\n",
              "      <td>...</td>\n",
              "      <td>...</td>\n",
              "    </tr>\n",
              "    <tr>\n",
              "      <th>2135</th>\n",
              "      <td>2136</td>\n",
              "      <td>coronavirusupdates state wise details total co...</td>\n",
              "      <td>real</td>\n",
              "    </tr>\n",
              "    <tr>\n",
              "      <th>2136</th>\n",
              "      <td>2137</td>\n",
              "      <td>tonight midnight onwards disaster management a...</td>\n",
              "      <td>fake</td>\n",
              "    </tr>\n",
              "    <tr>\n",
              "      <th>2137</th>\n",
              "      <td>2138</td>\n",
              "      <td>new cases covid nigeria plateau enugu oyo lago...</td>\n",
              "      <td>real</td>\n",
              "    </tr>\n",
              "    <tr>\n",
              "      <th>2138</th>\n",
              "      <td>2139</td>\n",
              "      <td>rt cdcemergency dyk cdcgov one stop shop covid...</td>\n",
              "      <td>real</td>\n",
              "    </tr>\n",
              "    <tr>\n",
              "      <th>2139</th>\n",
              "      <td>2140</td>\n",
              "      <td>half pregnant women recently admitted uk hospi...</td>\n",
              "      <td>real</td>\n",
              "    </tr>\n",
              "  </tbody>\n",
              "</table>\n",
              "<p>2140 rows × 3 columns</p>\n",
              "</div>\n",
              "      <button class=\"colab-df-convert\" onclick=\"convertToInteractive('df-977aca9a-e61f-4524-bfda-0a3c1504b383')\"\n",
              "              title=\"Convert this dataframe to an interactive table.\"\n",
              "              style=\"display:none;\">\n",
              "        \n",
              "  <svg xmlns=\"http://www.w3.org/2000/svg\" height=\"24px\"viewBox=\"0 0 24 24\"\n",
              "       width=\"24px\">\n",
              "    <path d=\"M0 0h24v24H0V0z\" fill=\"none\"/>\n",
              "    <path d=\"M18.56 5.44l.94 2.06.94-2.06 2.06-.94-2.06-.94-.94-2.06-.94 2.06-2.06.94zm-11 1L8.5 8.5l.94-2.06 2.06-.94-2.06-.94L8.5 2.5l-.94 2.06-2.06.94zm10 10l.94 2.06.94-2.06 2.06-.94-2.06-.94-.94-2.06-.94 2.06-2.06.94z\"/><path d=\"M17.41 7.96l-1.37-1.37c-.4-.4-.92-.59-1.43-.59-.52 0-1.04.2-1.43.59L10.3 9.45l-7.72 7.72c-.78.78-.78 2.05 0 2.83L4 21.41c.39.39.9.59 1.41.59.51 0 1.02-.2 1.41-.59l7.78-7.78 2.81-2.81c.8-.78.8-2.07 0-2.86zM5.41 20L4 18.59l7.72-7.72 1.47 1.35L5.41 20z\"/>\n",
              "  </svg>\n",
              "      </button>\n",
              "      \n",
              "  <style>\n",
              "    .colab-df-container {\n",
              "      display:flex;\n",
              "      flex-wrap:wrap;\n",
              "      gap: 12px;\n",
              "    }\n",
              "\n",
              "    .colab-df-convert {\n",
              "      background-color: #E8F0FE;\n",
              "      border: none;\n",
              "      border-radius: 50%;\n",
              "      cursor: pointer;\n",
              "      display: none;\n",
              "      fill: #1967D2;\n",
              "      height: 32px;\n",
              "      padding: 0 0 0 0;\n",
              "      width: 32px;\n",
              "    }\n",
              "\n",
              "    .colab-df-convert:hover {\n",
              "      background-color: #E2EBFA;\n",
              "      box-shadow: 0px 1px 2px rgba(60, 64, 67, 0.3), 0px 1px 3px 1px rgba(60, 64, 67, 0.15);\n",
              "      fill: #174EA6;\n",
              "    }\n",
              "\n",
              "    [theme=dark] .colab-df-convert {\n",
              "      background-color: #3B4455;\n",
              "      fill: #D2E3FC;\n",
              "    }\n",
              "\n",
              "    [theme=dark] .colab-df-convert:hover {\n",
              "      background-color: #434B5C;\n",
              "      box-shadow: 0px 1px 3px 1px rgba(0, 0, 0, 0.15);\n",
              "      filter: drop-shadow(0px 1px 2px rgba(0, 0, 0, 0.3));\n",
              "      fill: #FFFFFF;\n",
              "    }\n",
              "  </style>\n",
              "\n",
              "      <script>\n",
              "        const buttonEl =\n",
              "          document.querySelector('#df-977aca9a-e61f-4524-bfda-0a3c1504b383 button.colab-df-convert');\n",
              "        buttonEl.style.display =\n",
              "          google.colab.kernel.accessAllowed ? 'block' : 'none';\n",
              "\n",
              "        async function convertToInteractive(key) {\n",
              "          const element = document.querySelector('#df-977aca9a-e61f-4524-bfda-0a3c1504b383');\n",
              "          const dataTable =\n",
              "            await google.colab.kernel.invokeFunction('convertToInteractive',\n",
              "                                                     [key], {});\n",
              "          if (!dataTable) return;\n",
              "\n",
              "          const docLinkHtml = 'Like what you see? Visit the ' +\n",
              "            '<a target=\"_blank\" href=https://colab.research.google.com/notebooks/data_table.ipynb>data table notebook</a>'\n",
              "            + ' to learn more about interactive tables.';\n",
              "          element.innerHTML = '';\n",
              "          dataTable['output_type'] = 'display_data';\n",
              "          await google.colab.output.renderOutput(dataTable, element);\n",
              "          const docLink = document.createElement('div');\n",
              "          docLink.innerHTML = docLinkHtml;\n",
              "          element.appendChild(docLink);\n",
              "        }\n",
              "      </script>\n",
              "    </div>\n",
              "  </div>\n",
              "  "
            ],
            "text/plain": [
              "        id                                              tweet label\n",
              "0        1  daily update published states reported tests n...  real\n",
              "1        2  alfalfa cure covid nan nan nan nan nan nan nan...  fake\n",
              "2        3  president trump asked would catch coronavirus ...  fake\n",
              "3        4  states reported deaths still seeing solid nati...  real\n",
              "4        5  sixth time global health emergency declared in...  real\n",
              "...    ...                                                ...   ...\n",
              "2135  2136  coronavirusupdates state wise details total co...  real\n",
              "2136  2137  tonight midnight onwards disaster management a...  fake\n",
              "2137  2138  new cases covid nigeria plateau enugu oyo lago...  real\n",
              "2138  2139  rt cdcemergency dyk cdcgov one stop shop covid...  real\n",
              "2139  2140  half pregnant women recently admitted uk hospi...  real\n",
              "\n",
              "[2140 rows x 3 columns]"
            ]
          },
          "metadata": {},
          "execution_count": 35
        }
      ]
    },
    {
      "cell_type": "code",
      "metadata": {
        "id": "1HroD2ygPg6t"
      },
      "source": [
        "# test_features = test_data['tweet'].to_numpy()\n",
        "# print(test_features)"
      ],
      "execution_count": null,
      "outputs": []
    },
    {
      "cell_type": "code",
      "metadata": {
        "id": "e3SEnvjePrP2",
        "colab": {
          "base_uri": "https://localhost:8080/"
        },
        "outputId": "8c77ff96-769b-43b3-bd08-d414cc8d8153"
      },
      "source": [
        "test_data_ = test_data.tweet\n",
        "test_data_"
      ],
      "execution_count": null,
      "outputs": [
        {
          "output_type": "execute_result",
          "data": {
            "text/plain": [
              "0       daily update published states reported tests n...\n",
              "1       alfalfa cure covid nan nan nan nan nan nan nan...\n",
              "2       president trump asked would catch coronavirus ...\n",
              "3       states reported deaths still seeing solid nati...\n",
              "4       sixth time global health emergency declared in...\n",
              "                              ...                        \n",
              "2135    coronavirusupdates state wise details total co...\n",
              "2136    tonight midnight onwards disaster management a...\n",
              "2137    new cases covid nigeria plateau enugu oyo lago...\n",
              "2138    rt cdcemergency dyk cdcgov one stop shop covid...\n",
              "2139    half pregnant women recently admitted uk hospi...\n",
              "Name: tweet, Length: 2140, dtype: object"
            ]
          },
          "metadata": {},
          "execution_count": 37
        }
      ]
    },
    {
      "cell_type": "code",
      "metadata": {
        "colab": {
          "base_uri": "https://localhost:8080/"
        },
        "id": "6aAAFTSSPwTr",
        "outputId": "59da77f5-27e2-4f7b-afe3-8a3ca49abffb"
      },
      "source": [
        "test_sequences = tokenizer.texts_to_sequences(test_data_)\n",
        "X_test = pad_sequences(test_sequences, maxlen=max_length)\n",
        "X_test"
      ],
      "execution_count": null,
      "outputs": [
        {
          "output_type": "execute_result",
          "data": {
            "text/plain": [
              "array([[   0,    0,   41, ...,  258,    3,    4],\n",
              "       [   0,  116,    2, ...,    1,    1,    1],\n",
              "       [   0,   65,   38, ...,    1,    1,    1],\n",
              "       ...,\n",
              "       [   7,    5,    2, ...,  283,  110,  218],\n",
              "       [  33, 1538, 1557, ...,    1,    1,    1],\n",
              "       [   0,  516, 1355, ...,    3,    4,    1]], dtype=int32)"
            ]
          },
          "metadata": {},
          "execution_count": 38
        }
      ]
    },
    {
      "cell_type": "markdown",
      "metadata": {
        "id": "Y1aYsw5WzCRA"
      },
      "source": [
        "###Predicting the labels of the test data"
      ]
    },
    {
      "cell_type": "code",
      "metadata": {
        "colab": {
          "base_uri": "https://localhost:8080/"
        },
        "id": "44jXxtYxQF3K",
        "outputId": "8c396bde-32f2-41b1-d777-a88511b4efb3"
      },
      "source": [
        "prediction = model.predict(X_test)\n",
        "prediction"
      ],
      "execution_count": null,
      "outputs": [
        {
          "output_type": "execute_result",
          "data": {
            "text/plain": [
              "array([[9.9999189e-01],\n",
              "       [2.1940098e-06],\n",
              "       [4.0277318e-06],\n",
              "       ...,\n",
              "       [9.9999034e-01],\n",
              "       [9.9996316e-01],\n",
              "       [9.9991596e-01]], dtype=float32)"
            ]
          },
          "metadata": {},
          "execution_count": 39
        }
      ]
    },
    {
      "cell_type": "code",
      "metadata": {
        "id": "l6Qy6HuoQOwn",
        "colab": {
          "base_uri": "https://localhost:8080/"
        },
        "outputId": "e4552458-09cb-4d21-a6eb-94f6e3d61c76"
      },
      "source": [
        "for i in range(len(prediction)):\n",
        "    if(prediction[i][0]>=0.5):\n",
        "        prediction[i][0] = True\n",
        "    else:\n",
        "        prediction[i][0] = False\n",
        "prediction"
      ],
      "execution_count": null,
      "outputs": [
        {
          "output_type": "execute_result",
          "data": {
            "text/plain": [
              "array([[1.],\n",
              "       [0.],\n",
              "       [0.],\n",
              "       ...,\n",
              "       [1.],\n",
              "       [1.],\n",
              "       [1.]], dtype=float32)"
            ]
          },
          "metadata": {},
          "execution_count": 40
        }
      ]
    },
    {
      "cell_type": "code",
      "metadata": {
        "colab": {
          "base_uri": "https://localhost:8080/"
        },
        "id": "CUHeQRrRUBB9",
        "outputId": "7926afe0-4dc8-4547-89ba-282a0546fadd"
      },
      "source": [
        "prediction_ = encoder.inverse_transform(prediction.astype(int).flatten())\n",
        "prediction_"
      ],
      "execution_count": null,
      "outputs": [
        {
          "output_type": "execute_result",
          "data": {
            "text/plain": [
              "array(['real', 'fake', 'fake', ..., 'real', 'real', 'real'], dtype=object)"
            ]
          },
          "metadata": {},
          "execution_count": 41
        }
      ]
    },
    {
      "cell_type": "markdown",
      "metadata": {
        "id": "InemFu4DzZ7H"
      },
      "source": [
        "###Actual labels"
      ]
    },
    {
      "cell_type": "code",
      "metadata": {
        "colab": {
          "base_uri": "https://localhost:8080/"
        },
        "id": "3fYBsuUZ6KFO",
        "outputId": "98529a31-dd28-4a89-e26a-85132b27af2c"
      },
      "source": [
        "test_labels = test_data['label'].to_numpy()\n",
        "test_labels"
      ],
      "execution_count": null,
      "outputs": [
        {
          "output_type": "execute_result",
          "data": {
            "text/plain": [
              "array(['real', 'fake', 'fake', ..., 'real', 'real', 'real'], dtype=object)"
            ]
          },
          "metadata": {},
          "execution_count": 42
        }
      ]
    },
    {
      "cell_type": "markdown",
      "metadata": {
        "id": "E_ASjM8Izfaj"
      },
      "source": [
        "###Creating confusion matrix"
      ]
    },
    {
      "cell_type": "code",
      "metadata": {
        "id": "d-0tbSTuR8ck"
      },
      "source": [
        "import matplotlib.pyplot as plt\n",
        "def plot_confusion_matrix(cm, classes,\n",
        "                          normalize=False,\n",
        "                          title='Confusion matrix',\n",
        "                          cmap=plt.cm.Blues):\n",
        "    \"\"\"\n",
        "    This function prints and plots the confusion matrix.\n",
        "    Normalization can be applied by setting `normalize=True`.\n",
        "    \"\"\"\n",
        "    plt.imshow(cm, interpolation='nearest', cmap=cmap)\n",
        "    plt.title(title)\n",
        "    plt.colorbar()\n",
        "    tick_marks = np.arange(len(classes))\n",
        "    plt.xticks(tick_marks, classes, rotation=45)\n",
        "    plt.yticks(tick_marks, classes)\n",
        "\n",
        "    if normalize:\n",
        "        cm = cm.astype('float') / cm.sum(axis=1)[:, np.newaxis]\n",
        "        print(\"Normalized confusion matrix\")\n",
        "    else:\n",
        "        print('Confusion matrix, without normalization')\n",
        "\n",
        "    print(cm)\n",
        "\n",
        "    thresh = cm.max() / 2.\n",
        "    for i, j in itertools.product(range(cm.shape[0]), range(cm.shape[1])):\n",
        "        plt.text(j, i, cm[i, j],\n",
        "                 horizontalalignment=\"center\",\n",
        "                 color=\"white\" if cm[i, j] > thresh else \"black\")\n",
        "\n",
        "    plt.tight_layout()\n",
        "    plt.ylabel('True label')\n",
        "    plt.xlabel('Predicted label')\n"
      ],
      "execution_count": null,
      "outputs": []
    },
    {
      "cell_type": "code",
      "metadata": {
        "colab": {
          "base_uri": "https://localhost:8080/",
          "height": 366
        },
        "id": "qDJ3ci-58cEx",
        "outputId": "7db2a0da-0c3f-46f3-c7fa-88ae79df2cbe"
      },
      "source": [
        "import sklearn.metrics\n",
        "from sklearn.metrics import confusion_matrix\n",
        "import matplotlib.pyplot as plt\n",
        "import itertools\n",
        "\n",
        "cm = confusion_matrix(test_labels, prediction_)\n",
        "np.set_printoptions(precision=2)\n",
        "plt.figure()\n",
        "plot_confusion_matrix(cm, classes=[\"real\",\"fake\"], title='Confusion matrix')"
      ],
      "execution_count": null,
      "outputs": [
        {
          "output_type": "stream",
          "name": "stdout",
          "text": [
            "Confusion matrix, without normalization\n",
            "[[ 933   87]\n",
            " [  56 1064]]\n"
          ]
        },
        {
          "output_type": "display_data",
          "data": {
            "image/png": "[encoded data removed]",
            "text/plain": [
              "<Figure size 432x288 with 2 Axes>"
            ]
          },
          "metadata": {
            "needs_background": "light"
          }
        }
      ]
    },
    {
      "cell_type": "code",
      "metadata": {
        "colab": {
          "base_uri": "https://localhost:8080/"
        },
        "id": "zvNNr4rW8PgW",
        "outputId": "ae4610af-3f9a-452f-80c6-413cb07744aa"
      },
      "source": [
        "test_accuracy = (cm[0][0]+cm[1][1])/(cm[0][1]+cm[1][0]+cm[0][0]+cm[1][1])\n",
        "precision = (cm[0][0])/(cm[1][0]+cm[0][0])\n",
        "recall = (cm[0][0])/(cm[0][1]+cm[0][0])\n",
        "f1_score = 2*(precision*recall)/(precision + recall)\n",
        "print(\"Test Accuracy:\", test_accuracy)\n",
        "print(\"Precision:\", precision)\n",
        "print(\"Recall:\", recall)\n",
        "print(\"F1 Score:\", f1_score)"
      ],
      "execution_count": null,
      "outputs": [
        {
          "output_type": "stream",
          "name": "stdout",
          "text": [
            "Test Accuracy: 0.9331775700934579\n",
            "Precision: 0.9433771486349848\n",
            "Recall: 0.9147058823529411\n",
            "F1 Score: 0.9288203086112493\n"
          ]
        }
      ]
    },
    {
      "cell_type": "markdown",
      "metadata": {
        "id": "TQXQPZo2zmlj"
      },
      "source": [
        "###Test any custom news for credibility"
      ]
    },
    {
      "cell_type": "code",
      "metadata": {
        "colab": {
          "base_uri": "https://localhost:8080/"
        },
        "id": "GZWBKcVvF4iL",
        "outputId": "1b60126a-55e3-4df2-fa9a-dfee2a4a8203"
      },
      "source": [
        "test_news = input(\"enter a news to test: \")\n",
        "test_news = remove_noise(test_news)\n",
        "test_news = remove_stopwords(test_news)\n",
        "test_news = truncate(test_news)\n",
        "test_news = [test_news]\n",
        "test_news_ = pad_sequences(tokenizer.texts_to_sequences(test_news), maxlen=max_length)\n",
        "result = model.predict(test_news_)\n",
        "if(result[0][0]>=0.5):\n",
        "    result[0][0] = 1\n",
        "else:\n",
        "    result[0][0] = 0\n",
        "result_ = encoder.inverse_transform(result.astype(int).flatten())\n",
        "print(\"Result: The news you entered is\",result_[0])"
      ],
      "execution_count": null,
      "outputs": [
        {
          "output_type": "stream",
          "name": "stdout",
          "text": [
            "enter a news to test: vaccination is dangerous and will cause a global catastrophe depopulation by vaccination\n",
            "Result: The news you entered is fake\n"
          ]
        }
      ]
    },
    {
      "cell_type": "code",
      "metadata": {
        "colab": {
          "base_uri": "https://localhost:8080/"
        },
        "id": "IRtge8BIgKS4",
        "outputId": "556a6210-0795-4edc-e210-559d1ed49aa0"
      },
      "source": [
        "!sudo apt install tesseract-ocr\n",
        "!pip install pytesseract"
      ],
      "execution_count": null,
      "outputs": [
        {
          "output_type": "stream",
          "name": "stdout",
          "text": [
            "Reading package lists... Done\n",
            "Building dependency tree       \n",
            "Reading state information... Done\n",
            "tesseract-ocr is already the newest version (4.00~git2288-10f4998a-2).\n",
            "0 upgraded, 0 newly installed, 0 to remove and 39 not upgraded.\n",
            "Requirement already satisfied: pytesseract in /usr/local/lib/python3.7/dist-packages (0.3.9)\n",
            "Requirement already satisfied: Pillow>=8.0.0 in /usr/local/lib/python3.7/dist-packages (from pytesseract) (9.0.1)\n",
            "Requirement already satisfied: packaging>=21.3 in /usr/local/lib/python3.7/dist-packages (from pytesseract) (21.3)\n",
            "Requirement already satisfied: pyparsing!=3.0.5,>=2.0.2 in /usr/local/lib/python3.7/dist-packages (from packaging>=21.3->pytesseract) (3.0.7)\n"
          ]
        }
      ]
    },
    {
      "cell_type": "code",
      "metadata": {
        "id": "Bwqj5RU0gXLQ"
      },
      "source": [
        "import cv2\n",
        "import pytesseract\n",
        "import shutil\n",
        "import os\n",
        "import random"
      ],
      "execution_count": null,
      "outputs": []
    },
    {
      "cell_type": "code",
      "metadata": {
        "id": "rPkfg-QtgbH9"
      },
      "source": [
        "img = cv2.imread('test_image.jpg')"
      ],
      "execution_count": null,
      "outputs": []
    },
    {
      "cell_type": "code",
      "metadata": {
        "colab": {
          "base_uri": "https://localhost:8080/",
          "height": 993
        },
        "id": "-BB5MQ6Bl-In",
        "outputId": "a9c64daf-eecc-4a78-d5ea-5a4b6f776c7e"
      },
      "source": [
        "from google.colab.patches import cv2_imshow\n",
        "cv2_imshow(img)"
      ],
      "execution_count": null,
      "outputs": [
        {
          "output_type": "display_data",
          "data": {
            "text/plain": [
              "<PIL.Image.Image image mode=RGB size=976x976 at 0x7F18B7EB2C90>"
            ],
            "image/png": "[encoded data removed]"
          },
          "metadata": {}
        }
      ]
    },
    {
      "cell_type": "code",
      "metadata": {
        "colab": {
          "base_uri": "https://localhost:8080/",
          "height": 993
        },
        "id": "OouNIVXDLM13",
        "outputId": "25d6bd8e-78da-4a5b-df94-7c4c623bc9ce"
      },
      "source": [
        "# get grayscale image\n",
        "def get_grayscale(image):\n",
        "    return cv2.cvtColor(image, cv2.COLOR_BGR2GRAY)\n",
        "\n",
        "# noise removal\n",
        "def remove_noise_img(image):\n",
        "    return cv2.GaussianBlur(image,(1,1),cv2.BORDER_DEFAULT) \n",
        "\n",
        "#thresholding\n",
        "def thresholding(image):\n",
        "    return cv2.threshold(image, 0, 255, cv2.THRESH_BINARY + cv2.THRESH_OTSU)[1]\n",
        "\n",
        "gray = get_grayscale(img)\n",
        "thresh = thresholding(gray)\n",
        "clean_img = remove_noise_img(thresh)\n",
        "cv2_imshow(clean_img)"
      ],
      "execution_count": null,
      "outputs": [
        {
          "output_type": "display_data",
          "data": {
            "text/plain": [
              "<PIL.Image.Image image mode=L size=976x976 at 0x7F18B7F4EB50>"
            ],
            "image/png": "[encoded data removed]"
          },
          "metadata": {}
        }
      ]
    },
    {
      "cell_type": "code",
      "metadata": {
        "id": "NvrbTDJmMW6w"
      },
      "source": [
        "import textwrap"
      ],
      "execution_count": null,
      "outputs": []
    },
    {
      "cell_type": "markdown",
      "metadata": {
        "id": "wttII3f_quAI"
      },
      "source": [
        "###Extracting text using tesseract"
      ]
    },
    {
      "cell_type": "code",
      "metadata": {
        "colab": {
          "base_uri": "https://localhost:8080/"
        },
        "id": "IUJ3kVoWmDsl",
        "outputId": "1f8b2e18-bed7-4723-b94a-3455ef783fc7"
      },
      "source": [
        "extracted_text = pytesseract.image_to_string(clean_img)\n",
        "print(\"Raw text: \\n\", extracted_text)"
      ],
      "execution_count": null,
      "outputs": [
        {
          "output_type": "stream",
          "name": "stdout",
          "text": [
            "Raw text: \n",
            " ‘o--\n",
            "\n",
            "| just heard first hand that a doctor who had Corona\n",
            "virus recovered in double quick time. He inhaled\n",
            "Steam just as we normally would in a bowl with towel\n",
            "\n",
            "Steaming raises the temperature of lungs, throat and\n",
            "mouth so that if the virus is already there it gets\n",
            "inactivate due to high temperature.\n",
            "\n",
            "Please also pass this information for the benefit of\n",
            "others.\n",
            "\n",
            "i) Like @ Share\n",
            "Ow 293\n",
            "\n",
            "33,209 shares\n",
            "\n",
            " \n",
            "\f\n"
          ]
        }
      ]
    },
    {
      "cell_type": "markdown",
      "metadata": {
        "id": "2j15yokSqynT"
      },
      "source": [
        "###Applying preprocessing to the extracted text\n"
      ]
    },
    {
      "cell_type": "code",
      "metadata": {
        "colab": {
          "base_uri": "https://localhost:8080/"
        },
        "id": "HwToRwVjqhvG",
        "outputId": "05a26ffb-0713-4fb9-e579-31884254ae31"
      },
      "source": [
        "extracted_text = remove_noise(extracted_text)\n",
        "extracted_text = remove_stopwords(extracted_text)\n",
        "extracted_text = truncate(extracted_text)\n",
        "print(\"After applying preprocessing: \")\n",
        "print (textwrap.fill(extracted_text, width=70))"
      ],
      "execution_count": null,
      "outputs": [
        {
          "output_type": "stream",
          "name": "stdout",
          "text": [
            "After applying preprocessing: \n",
            "heard first hand doctor corona virus recovered double quick time\n",
            "inhaled steam normally would bowl towel steaming raises temperature\n",
            "lungs\n"
          ]
        }
      ]
    },
    {
      "cell_type": "markdown",
      "metadata": {
        "id": "E2lwKB-4q1mF"
      },
      "source": [
        "###Testing if the extracted text contains a real or a fake news"
      ]
    },
    {
      "cell_type": "code",
      "metadata": {
        "colab": {
          "base_uri": "https://localhost:8080/"
        },
        "id": "9iUWt79gqmYu",
        "outputId": "2b3be0fa-6bd7-4f27-bda2-8a18444ca22f"
      },
      "source": [
        "test_news = extracted_text\n",
        "test_news = [test_news]\n",
        "test_news_ = pad_sequences(tokenizer.texts_to_sequences(test_news), maxlen=max_length)\n",
        "result = model.predict(test_news_)\n",
        "if(result[0][0]>=0.5):\n",
        "    result[0][0] = 1\n",
        "else:\n",
        "    result[0][0] = 0\n",
        "result_ = encoder.inverse_transform(result.astype(int).flatten())\n",
        "print(\"\\nResult: The news in the image is\",result_[0])"
      ],
      "execution_count": null,
      "outputs": [
        {
          "output_type": "stream",
          "name": "stdout",
          "text": [
            "\n",
            "Result: The news in the image is fake\n"
          ]
        }
      ]
    },
    {
      "cell_type": "markdown",
      "source": [
        "#Test the saved model"
      ],
      "metadata": {
        "id": "rsuXiJajLsq5"
      }
    },
    {
      "cell_type": "code",
      "source": [
        "from tensorflow import keras\n",
        "test_news = input(\"enter a news to test: \")\n",
        "test_news = remove_noise(test_news)\n",
        "test_news = remove_stopwords(test_news)\n",
        "test_news = truncate(test_news)\n",
        "test_news = [test_news]\n",
        "\n",
        "\n",
        "# loading tokenizer\n",
        "with open('tokenizer.pickle', 'rb') as handle:\n",
        "    saved_tokenizer = pickle.load(handle)\n",
        "\n",
        "\n",
        "test_news_ = pad_sequences(saved_tokenizer.texts_to_sequences(test_news), maxlen=max_length)\n",
        "\n",
        "\n",
        "# !unzip my_model.zip -d /\n",
        "\n",
        "saved_model = keras.models.load_model('/content/my_model')\n",
        "result = saved_model.predict(test_news_)\n",
        "if(result[0][0]>=0.5):\n",
        "    result[0][0] = 1\n",
        "else:\n",
        "    result[0][0] = 0\n",
        "\n",
        "\n",
        "# loading\n",
        "with open('encoder.pickle', 'rb') as handle:\n",
        "    saved_encoder = pickle.load(handle)\n",
        "\n",
        "result_ = saved_encoder.inverse_transform(result.astype(int).flatten())\n",
        "print(\"Result: The news you entered is\",result_[0])"
      ],
      "metadata": {
        "colab": {
          "base_uri": "https://localhost:8080/"
        },
        "id": "DlRC-CJoLsIX",
        "outputId": "3d110741-8bbd-4018-dae8-2740d2cf30bc"
      },
      "execution_count": null,
      "outputs": [
        {
          "output_type": "stream",
          "name": "stdout",
          "text": [
            "enter a news to test: vaccination is dangerous and will cause a global catastrophe depopulation by vaccination\n",
            "Result: The news you entered is fake\n"
          ]
        }
      ]
    }
  ]
}